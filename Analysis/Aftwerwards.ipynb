{
 "cells": [
  {
   "cell_type": "code",
   "execution_count": 1,
   "id": "387c7c4e-6b0b-43ce-ab10-66329c5cb139",
   "metadata": {},
   "outputs": [],
   "source": [
    "# Imports\n",
    "import os, json, random\n",
    "import numpy as np\n",
    "from IPython.display import JSON\n",
    "import datetime as dt\n",
    "import matplotlib.pyplot as plt\n",
    "import matplotlib.dates as mdates\n",
    "from matplotlib.collections import PolyCollection\n",
    "import pandas as pd\n",
    "from sklearn.metrics import confusion_matrix\n",
    "import seaborn as sns"
   ]
  },
  {
   "cell_type": "code",
   "execution_count": 2,
   "id": "497a1e91-442e-4d8a-a26a-b5053f0261df",
   "metadata": {},
   "outputs": [
    {
     "data": {
      "application/json": [
       {
        "answers": [
         {
          "scene-2": true,
          "scene-3": true,
          "scene-4": true
         }
        ],
        "effect": null,
        "effect_questions": [
         {
          "q": "A few seconds following these changes, it is reasonable that the ball collided with the staircase desending to the right",
          "truth": true
         },
         {
          "q": "A few seconds following these changes, it isimposible that the ball is moving",
          "truth": false
         },
         {
          "q": "A few seconds following these changes, it is reasonable that the ball is moving",
          "truth": true
         },
         {
          "q": "A few seconds following these changes, it is imposible that the ball is moving",
          "truth": false
         },
         {
          "q": "A few seconds following these changes, it is reasonable that the ball is rolling",
          "truth": true
         },
         {
          "q": "A few seconds following these changes, it is likely that the ball collided with the staircase desending to the right",
          "truth": true
         }
        ],
        "scene": "In a simulation, there is a ball. It is placed in mid-air a bit above a staircase desending to the right.",
        "scene_questions": [
         {
          "q": "After a fraction of a seccond, it is imposible that the ball is moving",
          "truth": false
         },
         {
          "q": "After a fraction of a seccond, it is certain that the ball is rolling",
          "truth": false
         },
         {
          "q": "After a fraction of a seccond, it is likely that the ball is moving",
          "truth": true
         },
         {
          "q": "After a fraction of a seccond, it is certain that the ball collided with the staircase desending to the right",
          "truth": false
         },
         {
          "q": "Across a fraction of a seccond, the ball will begin to collide with the staircase desending to the right",
          "truth": false
         },
         {
          "q": "After a fraction of a seccond, it is unlikely that the ball is rolling",
          "truth": true
         }
        ],
        "sim": "1458370",
        "start_time": 1638804871050,
        "total_questions": [
         {
          "q": "Overall, it is reasonable that the ball collided with the staircase desending to the right",
          "truth": true
         },
         {
          "q": "Overall, the ball may repeatedly collide with the staircase desending to the right",
          "truth": true
         }
        ],
        "uploaded_time": "1638804907592"
       },
       {
        "answers": [
         {
          "effect-1": true,
          "effect-2": true,
          "scene-3": true,
          "scene-5": true,
          "total-0": true,
          "total-2": true,
          "total-4": true
         }
        ],
        "effect": "After a little bit, the cube becomes quite heavy",
        "effect_questions": [
         {
          "q": "A few seconds following these changes, it is impossible that the cube collided with the flat platform with a cliff to the right",
          "truth": false
         },
         {
          "q": "A few seconds following these changes, it is unlikely that the cube is moving",
          "truth": true
         },
         {
          "q": "A few seconds following these changes, it is unlikely that the cube is rolling",
          "truth": true
         },
         {
          "q": "A few seconds following these changes, it isimpossible that the cube collided with the flat platform with a cliff to the right",
          "truth": false
         },
         {
          "q": "A few seconds following these changes, it is certain that the cube is rolling",
          "truth": false
         }
        ],
        "scene": "In a simulation, there is a cube which is pushed left. It is placed in mid-air a bit above a flat platform with a cliff to the right.",
        "scene_questions": [
         {
          "q": "After a fraction of a second, it is unlikely that the cube is rolling",
          "truth": true
         },
         {
          "q": "Across a few seconds of time, the cube will begin to collide with the flat platform with a cliff to the right",
          "truth": true
         },
         {
          "q": "After a fraction of a second, it is unlikely that the cube collided with the flat platform with a cliff to the right",
          "truth": true
         },
         {
          "q": "After a few seconds of time, it is reasonable that the cube is moving",
          "truth": true
         },
         {
          "q": "Across a fraction of a second, the cube will begin to collide with the flat platform with a cliff to the right",
          "truth": false
         },
         {
          "q": "After a fraction of a second, it is certain that the cube is rolling",
          "truth": false
         }
        ],
        "sim": "7581701",
        "start_time": 1638853612102,
        "total_questions": [
         {
          "q": "Overall, the cube will not begin to collide with the flat platform with a cliff to the right",
          "truth": false
         },
         {
          "q": "Overall, it is reasonable that the cube collided with the flat platform with a cliff to the right",
          "truth": true
         },
         {
          "q": "Overall, it is unlikely that the cube is rolling",
          "truth": true
         },
         {
          "q": "Overall, it is certain that the cube is rolling",
          "truth": false
         },
         {
          "q": "Overall, it is impossible that the cube collided with the flat platform with a cliff to the right",
          "truth": false
         }
        ],
        "uploaded_time": "1638853755552"
       },
       {
        "answers": [
         {
          "scene-1": true,
          "scene-2": true,
          "scene-4": true
         }
        ],
        "effect": null,
        "effect_questions": [
         {
          "q": "A few seconds following these changes, it is reasonable that the ball is rolling",
          "truth": true
         },
         {
          "q": "A few seconds following these changes, it is imposible that cube0 is rolling",
          "truth": true
         },
         {
          "q": "A few seconds following these changes, it is reasonable that the ball is moving",
          "truth": true
         },
         {
          "q": "A few seconds following these changes, it is certain that cube0 is right of the ball",
          "truth": false
         },
         {
          "q": "A few seconds following these changes, the ball will begin to move above cube0",
          "truth": false
         },
         {
          "q": "A few seconds following these changes, it is imposible that cube0 is below cube1",
          "truth": true
         }
        ],
        "scene": "In a simulation, there is a cube (cube0), another cube (cube1) which is pushed down, and a ball. They are placed in mid-air a bit above a platform sloping down to the right, cube1 above of cube0, and the ball above of cube1.",
        "scene_questions": [
         {
          "q": "After a few seconds of time, it is imposible that the ball is rolling",
          "truth": false
         },
         {
          "q": "After a fraction of a seccond, it is reasonable that the ball is above cube0",
          "truth": true
         },
         {
          "q": "Across a fraction of a seccond, cube0 will not begin to move above cube1",
          "truth": true
         },
         {
          "q": "After a few seconds of time, it is unlikely that cube0 is left of cube1",
          "truth": true
         },
         {
          "q": "After a fraction of a seccond, it is unlikely that the ball collided with cube0",
          "truth": true
         },
         {
          "q": "After a fraction of a seccond, it is certain that cube0 collided with cube1",
          "truth": false
         }
        ],
        "sim": "6674898",
        "start_time": 1638806021715,
        "total_questions": [
         {
          "q": "Overall, cube0 may repeatedly collide with the platform sloping down to the right",
          "truth": true
         },
         {
          "q": "Overall, it is certain that cube0 is right of the ball",
          "truth": false
         },
         {
          "q": "Overall, it is reasonable that the ball is rolling",
          "truth": true
         },
         {
          "q": "Overall, it is reasonable that cube0 collided with the ball",
          "truth": true
         },
         {
          "q": "Overall, it is unlikely that cube1 is left of cube0",
          "truth": true
         },
         {
          "q": "Overall, it is imposible that cube0 is moving",
          "truth": false
         }
        ],
        "uploaded_time": "1638806390905"
       },
       {
        "answers": [
         {
          "scene-1": true,
          "scene-3": true
         }
        ],
        "effect": null,
        "effect_questions": [
         {
          "q": "A few seconds following these changes, it is imposible that the ball is right of the cube",
          "truth": true
         },
         {
          "q": "A few seconds following these changes, it is imposible that the ball is left of the cube",
          "truth": true
         },
         {
          "q": "A few seconds following these changes, the cube will begin to move below the ball",
          "truth": false
         },
         {
          "q": "A few seconds following these changes, it is unlikely that the ball is left of the cube",
          "truth": true
         },
         {
          "q": "A few seconds following these changes, it is unlikely that the ball is right of the cube",
          "truth": true
         },
         {
          "q": "A few seconds following these changes, it is unlikely that the cube is below the ball",
          "truth": true
         }
        ],
        "scene": "In a simulation, there is a cube, and a ball which is rather big. They are placed in mid-air a bit above a bowl, the ball below of the cube.",
        "scene_questions": [
         {
          "q": "After a few seconds of time, it is certain that the ball is below the cube",
          "truth": false
         },
         {
          "q": "Across a fraction of a seccond, the ball will begin to move below the cube",
          "truth": false
         },
         {
          "q": "After a few seconds of time, it is certain that the cube is above the ball",
          "truth": false
         },
         {
          "q": "After a few seconds of time, it is imposible that the cube collided with the invPyramid",
          "truth": false
         },
         {
          "q": "After a few seconds of time, it is certain that the cube is left of the ball",
          "truth": false
         },
         {
          "q": "After a fraction of a seccond, it is unlikely that the ball is left of the cube",
          "truth": true
         }
        ],
        "sim": "7743675",
        "start_time": 1638809317286,
        "total_questions": [
         {
          "q": "Overall, the ball will begin to move above the cube",
          "truth": false
         },
         {
          "q": "Overall, the cube will not begin to move left of the ball",
          "truth": true
         },
         {
          "q": "Overall, it is reasonable that the ball is moving",
          "truth": true
         },
         {
          "q": "Overall, it is imposible that the ball is above the cube",
          "truth": true
         },
         {
          "q": "Overall, it is imposible that the cube collided with the invPyramid",
          "truth": false
         },
         {
          "q": "Overall, the cube will begin to move below the ball",
          "truth": false
         }
        ],
        "uploaded_time": "1638809423457"
       },
       {
        "answers": [
         {
          "scene-2": true,
          "scene-3": true
         }
        ],
        "effect": null,
        "effect_questions": [
         {
          "q": "A few seconds following these changes, it is reasonable that the ball collided with the bowl",
          "truth": true
         },
         {
          "q": "A few seconds following these changes, it is impossible that the ball collided with the bowl",
          "truth": false
         }
        ],
        "scene": "In a simulation, there is a ball. It is placed in mid-air a bit above a bowl.",
        "scene_questions": [
         {
          "q": "After a fraction of a second, it is imposible that the ball is rolling",
          "truth": true
         },
         {
          "q": "After a fraction of a second, it is impossible that the ball is moving",
          "truth": false
         },
         {
          "q": "After a few seconds of time, it is likely that the ball is moving",
          "truth": true
         },
         {
          "q": "After a few seconds of time, it is reasonable that the ball is moving",
          "truth": true
         },
         {
          "q": "Across a fraction of a second, the ball will begin to be rolling",
          "truth": false
         },
         {
          "q": "After a few seconds of time, it is impossible that the ball is rolling",
          "truth": false
         }
        ],
        "sim": "5326129",
        "start_time": 1638833450261,
        "total_questions": [
         {
          "q": "Overall, the ball may repeatedly be rolling",
          "truth": true
         },
         {
          "q": "Overall, it is impossible that the ball is rolling",
          "truth": false
         },
         {
          "q": "Overall, the ball may repeatedly be moving",
          "truth": true
         },
         {
          "q": "Overall, it is impossible that the ball is moving",
          "truth": false
         },
         {
          "q": "Overall, the ball may repeatedly collide with the bowl",
          "truth": true
         }
        ],
        "uploaded_time": "1638833469575"
       },
       {
        "answers": [
         {
          "effect-2": true,
          "effect-3": true,
          "scene-2": true,
          "scene-4": true,
          "total-0": true,
          "total-2": true,
          "total-3": true
         }
        ],
        "effect": "After a little bit, the cube is very slipery",
        "effect_questions": [
         {
          "q": "A few seconds following these changes, the cube will begin to be rolling",
          "truth": false
         },
         {
          "q": "A few seconds following these changes, it isimposible that the cube collided with the box",
          "truth": false
         },
         {
          "q": "A few seconds following these changes, the cube will not begin to be rolling",
          "truth": true
         },
         {
          "q": "A few seconds following these changes, it is imposible that the cube is moving",
          "truth": true
         },
         {
          "q": "A few seconds following these changes, it is certain that the cube is rolling",
          "truth": false
         }
        ],
        "scene": "In a simulation, there is a cube which experiences extreme gravity. It is placed in a box.",
        "scene_questions": [
         {
          "q": "After a fraction of a seccond, it is reasonable that the cube is moving",
          "truth": true
         },
         {
          "q": "After a fraction of a seccond, it is unlikely that the cube collided with the box",
          "truth": true
         },
         {
          "q": "After a fraction of a seccond, it is unlikely that the cube is rolling",
          "truth": true
         },
         {
          "q": "Across a fraction of a seccond, the cube will begin to be rolling",
          "truth": false
         },
         {
          "q": "Across a fraction of a seccond, the cube will not begin to be rolling",
          "truth": true
         }
        ],
        "sim": "3283577",
        "start_time": 1638805111630,
        "total_questions": [
         {
          "q": "Overall, the cube will begin to collide with the box",
          "truth": true
         },
         {
          "q": "Overall, it isimposible that the cube collided with the box",
          "truth": false
         },
         {
          "q": "Overall, it is reasonable that the cube collided with the box",
          "truth": true
         },
         {
          "q": "Overall, it is likely that the cube collided with the box",
          "truth": true
         },
         {
          "q": "Overall, it is imposible that the cube collided with the box",
          "truth": false
         }
        ],
        "uploaded_time": "1638805303050"
       },
       {
        "answers": [
         {
          "scene-0": true
         }
        ],
        "effect": null,
        "effect_questions": [
         {
          "q": "A few seconds following these changes, it isimpossible that the ball collided with the staircase desending to the right",
          "truth": false
         },
         {
          "q": "A few seconds following these changes, it is impossible that the ball is rolling",
          "truth": false
         },
         {
          "q": "A few seconds following these changes, it is reasonable that the ball is moving",
          "truth": true
         },
         {
          "q": "A few seconds following these changes, it is reasonable that the ball collided with the staircase desending to the right",
          "truth": true
         },
         {
          "q": "A few seconds following these changes, it isimpossible that the ball is moving",
          "truth": false
         },
         {
          "q": "A few seconds following these changes, it is reasonable that the ball is rolling",
          "truth": true
         }
        ],
        "scene": "In a simulation, there is a ball. It is placed in mid-air a bit above a staircase desending to the right.",
        "scene_questions": [
         {
          "q": "After a fraction of a second, it is unlikely that the ball is rolling",
          "truth": true
         },
         {
          "q": "After a fraction of a second, it is imposible that the ball is rolling",
          "truth": true
         },
         {
          "q": "Across a fraction of a second, the ball will not begin to be rolling",
          "truth": true
         },
         {
          "q": "After a few seconds of time, it is impossible that the ball is moving",
          "truth": false
         },
         {
          "q": "Across a fraction of a second, the ball will not begin to collide with the staircase desending to the right",
          "truth": true
         }
        ],
        "sim": "4381005",
        "start_time": 1638838000641,
        "total_questions": [
         {
          "q": "Overall, it is impossible that the ball collided with the staircase desending to the right",
          "truth": false
         },
         {
          "q": "Overall, it is reasonable that the ball is moving",
          "truth": true
         },
         {
          "q": "Overall, the ball may repeatedly collide with the staircase desending to the right",
          "truth": true
         },
         {
          "q": "Overall, it is reasonable that the ball collided with the staircase desending to the right",
          "truth": true
         }
        ],
        "uploaded_time": "1638838054370"
       },
       {
        "answers": [
         {}
        ],
        "effect": "After a little bit, the ball gains a good amount of friction",
        "effect_questions": [
         {
          "q": "A few seconds following these changes, it is likely that the cube collided with the box",
          "truth": true
         },
         {
          "q": "A few seconds following these changes, it is imposible that the cube is right of the ball",
          "truth": true
         },
         {
          "q": "A few seconds following these changes, the ball will not begin to move left of the cube",
          "truth": true
         },
         {
          "q": "A few seconds following these changes, the ball will not begin to move below the cube",
          "truth": true
         },
         {
          "q": "A few seconds following these changes, it isimposible that the ball is right of the cube",
          "truth": false
         },
         {
          "q": "A few seconds following these changes, it is imposible that the ball is left of the cube",
          "truth": true
         }
        ],
        "scene": "In a simulation, there is a ball which is pushed right, and a cube. They are placed in a box, the cube left of the ball.",
        "scene_questions": [
         {
          "q": "After a fraction of a seccond, it is certain that the cube collided with the ball",
          "truth": false
         },
         {
          "q": "After a few seconds of time, it is imposible that the cube collided with the ball",
          "truth": true
         },
         {
          "q": "After a fraction of a seccond, it is imposible that the cube is left of the ball",
          "truth": false
         },
         {
          "q": "After a fraction of a seccond, it is unlikely that the ball is moving",
          "truth": false
         },
         {
          "q": "After a fraction of a seccond, it is unlikely that the ball is below the cube",
          "truth": true
         },
         {
          "q": "After a fraction of a seccond, it is likely that the ball is moving",
          "truth": true
         }
        ],
        "sim": "4888380",
        "start_time": 1638806830798,
        "total_questions": [
         {
          "q": "Overall, the ball will begin to move left of the cube",
          "truth": false
         },
         {
          "q": "Overall, it is unlikely that the cube is below the ball",
          "truth": true
         },
         {
          "q": "Overall, the ball will begin to move above the cube",
          "truth": false
         },
         {
          "q": "Overall, it is reasonable that the ball is rolling",
          "truth": true
         },
         {
          "q": "Overall, the cube will not begin to collide with the box",
          "truth": false
         },
         {
          "q": "Overall, it is imposible that the ball is below the cube",
          "truth": true
         }
        ],
        "uploaded_time": "1638806834463"
       },
       {
        "answers": [
         {
          "scene-0": true,
          "scene-3": true
         }
        ],
        "effect": null,
        "effect_questions": [
         {
          "q": "A few seconds following these changes, it is likely that the cube collided with the staircase desending to the right",
          "truth": true
         }
        ],
        "scene": "In a simulation, there is a cube. It is placed in mid-air a bit above a staircase desending to the right.",
        "scene_questions": [
         {
          "q": "Across a fraction of a second, the cube will begin to collide with the staircase desending to the right",
          "truth": false
         },
         {
          "q": "After a fraction of a second, it isimpossible that the cube is moving",
          "truth": false
         },
         {
          "q": "Across a fraction of a second, the cube will not begin to collide with the staircase desending to the right",
          "truth": true
         },
         {
          "q": "Across a few seconds of time, the cube may repeatedly collide with the staircase desending to the right",
          "truth": true
         }
        ],
        "sim": "3375613",
        "start_time": 1638833429902,
        "total_questions": [
         {
          "q": "Overall, it is impossible that the cube collided with the staircase desending to the right",
          "truth": false
         },
         {
          "q": "Overall, it is reasonable that the cube collided with the staircase desending to the right",
          "truth": true
         },
         {
          "q": "Overall, the cube will not begin to collide with the staircase desending to the right",
          "truth": false
         }
        ],
        "uploaded_time": "1638833449008"
       },
       {
        "answers": [
         {}
        ],
        "effect": null,
        "effect_questions": [
         {
          "q": "A few seconds following these changes, it is unlikely that the ball is rolling",
          "truth": true
         },
         {
          "q": "A few seconds following these changes, the ball will not begin to be rolling",
          "truth": true
         },
         {
          "q": "A few seconds following these changes, it is likely that the ball collided with the platform",
          "truth": true
         },
         {
          "q": "A few seconds following these changes, it is impossible that the ball collided with the platform",
          "truth": false
         },
         {
          "q": "A few seconds following these changes, it is imposible that the ball is moving",
          "truth": true
         }
        ],
        "scene": "In a simulation, there is a ball. It is placed in mid-air a bit above a platform.",
        "scene_questions": [
         {
          "q": "After a fraction of a second, it is certain that the ball is rolling",
          "truth": false
         },
         {
          "q": "Across a few seconds of time, the ball will not begin to collide with the platform",
          "truth": false
         },
         {
          "q": "After a fraction of a second, it is certain that the ball collided with the platform",
          "truth": false
         },
         {
          "q": "After a few seconds of time, it is unlikely that the ball is rolling",
          "truth": true
         },
         {
          "q": "After a few seconds of time, it is certain that the ball is rolling",
          "truth": false
         },
         {
          "q": "Across a few seconds of time, the ball will not begin to be rolling",
          "truth": true
         }
        ],
        "sim": "7894476",
        "start_time": 1638878881641,
        "total_questions": [
         {
          "q": "Overall, it is unlikely that the ball is rolling",
          "truth": true
         },
         {
          "q": "Overall, it is imposible that the ball is rolling",
          "truth": true
         },
         {
          "q": "Overall, it isimpossible that the ball collided with the platform",
          "truth": false
         }
        ],
        "uploaded_time": "1638878887665"
       },
       {
        "answers": [
         {}
        ],
        "effect": null,
        "effect_questions": [
         {
          "q": "A few seconds following these changes, the cube will begin to be rolling",
          "truth": false
         },
         {
          "q": "A few seconds following these changes, the cube will not begin to be rolling",
          "truth": true
         },
         {
          "q": "A few seconds following these changes, it is unlikely that the cube is moving",
          "truth": true
         },
         {
          "q": "A few seconds following these changes, the cube will not begin to be moving",
          "truth": true
         },
         {
          "q": "A few seconds following these changes, the cube will begin to be moving",
          "truth": false
         }
        ],
        "scene": "In a simulation, there is a cube which experiences extreme gravity. It is placed in mid-air a bit above a flat platform with a cliff to the right.",
        "scene_questions": [
         {
          "q": "After a fraction of a second, it is unlikely that the cube is moving",
          "truth": false
         },
         {
          "q": "After a few seconds of time, it isimpossible that the cube collided with the flat platform with a cliff to the right",
          "truth": false
         },
         {
          "q": "After a few seconds of time, it is unlikely that the cube is rolling",
          "truth": true
         },
         {
          "q": "After a fraction of a second, it is impossible that the cube is moving",
          "truth": false
         },
         {
          "q": "After a fraction of a second, it is unlikely that the cube collided with the flat platform with a cliff to the right",
          "truth": true
         },
         {
          "q": "After a fraction of a second, it is likely that the cube is moving",
          "truth": true
         }
        ],
        "sim": "4356248",
        "start_time": 1638878870894,
        "total_questions": [
         {
          "q": "Overall, it is unlikely that the cube is moving",
          "truth": true
         },
         {
          "q": "Overall, it is certain that the cube is moving",
          "truth": false
         },
         {
          "q": "Overall, it is certain that the cube is rolling",
          "truth": false
         },
         {
          "q": "Overall, it is unlikely that the cube is rolling",
          "truth": true
         },
         {
          "q": "Overall, it isimpossible that the cube collided with the flat platform with a cliff to the right",
          "truth": false
         }
        ],
        "uploaded_time": "1638878880132"
       },
       {
        "uploaded_time": "123123123"
       },
       {
        "answers": [
         {
          "scene-0": true,
          "scene-3": true
         }
        ],
        "effect": null,
        "effect_questions": [
         {
          "q": "A few seconds following these changes, it is certain that the cube collided with the ball",
          "truth": false
         },
         {
          "q": "A few seconds following these changes, the ball will not begin to collide with the cube",
          "truth": true
         },
         {
          "q": "A few seconds following these changes, it is certain that the ball is below the cube",
          "truth": false
         },
         {
          "q": "A few seconds following these changes, the ball will begin to collide with the cube",
          "truth": false
         },
         {
          "q": "A few seconds following these changes, it is reasonable that the ball is moving",
          "truth": true
         },
         {
          "q": "A few seconds following these changes, the cube will begin to be rolling",
          "truth": false
         }
        ],
        "scene": "In a simulation, there is a cube, and a ball which is pushed up. They are placed in mid-air a bit above a flat platform with a cliff to the right, the ball right of the cube.",
        "scene_questions": [
         {
          "q": "After a fraction of a seccond, it is unlikely that the cube is right of the ball",
          "truth": true
         },
         {
          "q": "Across a fraction of a seccond, the ball will begin to move left of the cube",
          "truth": false
         },
         {
          "q": "After a fraction of a seccond, it is certain that the cube is moving",
          "truth": true
         },
         {
          "q": "After a fraction of a seccond, it is unlikely that the ball is below the cube",
          "truth": true
         },
         {
          "q": "Across a fraction of a seccond, the ball will not begin to collide with the flat platform with a cliff to the right",
          "truth": true
         },
         {
          "q": "After a few seconds of time, it is certain that the cube is above the ball",
          "truth": false
         }
        ],
        "sim": "8939603",
        "start_time": 1638805206511,
        "total_questions": [
         {
          "q": "Overall, it is reasonable that the cube collided with the flat platform with a cliff to the right",
          "truth": true
         },
         {
          "q": "Overall, it is certain that the cube is right of the ball",
          "truth": false
         },
         {
          "q": "Overall, it is unlikely that the cube is rolling",
          "truth": true
         },
         {
          "q": "Overall, the cube will begin to move right of the ball",
          "truth": false
         },
         {
          "q": "Overall, it is reasonable that the ball collided with the flat platform with a cliff to the right",
          "truth": true
         }
        ],
        "uploaded_time": "1638808148389"
       },
       {
        "answers": [
         {
          "scene-0": true,
          "scene-1": true,
          "scene-2": true
         }
        ],
        "effect": null,
        "effect_questions": [
         {
          "q": "A few seconds following these changes, the cube will begin to move above ball0",
          "truth": false
         },
         {
          "q": "A few seconds following these changes, it is reasonable that the cube is left of ball0",
          "truth": true
         },
         {
          "q": "A few seconds following these changes, it is imposible that the cube is above ball2",
          "truth": true
         },
         {
          "q": "A few seconds following these changes, it is unlikely that the cube is rolling",
          "truth": true
         },
         {
          "q": "A few seconds following these changes, it is imposible that the cube is below ball2",
          "truth": true
         },
         {
          "q": "A few seconds following these changes, it is imposible that the cube is left of ball0",
          "truth": false
         }
        ],
        "scene": "In a simulation, there is a ball (ball0), a cube, and another ball (ball2). They are placed in a box, the cube below of ball0, and ball2 left of ball0.",
        "scene_questions": [
         {
          "q": "Across a few seconds of time, the cube will begin to collide with the box",
          "truth": true
         },
         {
          "q": "After a fraction of a seccond, it is certain that the cube collided with ball0",
          "truth": false
         },
         {
          "q": "After a fraction of a seccond, it is unlikely that the cube is left of ball2",
          "truth": true
         },
         {
          "q": "Across a few seconds of time, ball2 will begin to move right of ball0",
          "truth": false
         },
         {
          "q": "After a few seconds of time, it is certain that ball0 is below ball2",
          "truth": false
         },
         {
          "q": "After a few seconds of time, it is imposible that ball0 is below ball2",
          "truth": true
         }
        ],
        "sim": "5316441",
        "start_time": 1638805303733,
        "total_questions": [
         {
          "q": "Overall, it is reasonable that ball2 is rolling",
          "truth": true
         },
         {
          "q": "Overall, it is imposible that ball2 is moving",
          "truth": false
         },
         {
          "q": "Overall, it is certain that ball0 is above the cube",
          "truth": false
         },
         {
          "q": "Overall, it is imposible that ball0 is left of ball2",
          "truth": true
         },
         {
          "q": "Overall, it is reasonable that ball2 is left of ball0",
          "truth": true
         },
         {
          "q": "Overall, ball0 will not begin to move below ball2",
          "truth": true
         }
        ],
        "uploaded_time": "1638805384053"
       },
       {
        "answers": [
         {
          "scene-0": true,
          "scene-2": true,
          "scene-3": true,
          "total-0": true,
          "total-2": true,
          "total-3": true,
          "total-4": true
         }
        ],
        "effect": "After a little bit, the ball experiences very little gravity",
        "effect_questions": [],
        "scene": "In a simulation, there is a ball. It is placed in mid-air a bit above a bowl.",
        "scene_questions": [
         {
          "q": "After a fraction of a seccond, it is likely that the ball is moving",
          "truth": true
         },
         {
          "q": "After a few seconds of time, it is imposible that the ball is rolling",
          "truth": false
         },
         {
          "q": "After a few seconds of time, it is likely that the ball is moving",
          "truth": true
         },
         {
          "q": "After a fraction of a seccond, it is imposible that the ball is rolling",
          "truth": true
         }
        ],
        "sim": "1713042",
        "start_time": 1638809222223,
        "total_questions": [
         {
          "q": "Overall, it is reasonable that the ball is moving",
          "truth": true
         },
         {
          "q": "Overall, it is imposible that the ball is rolling",
          "truth": false
         },
         {
          "q": "Overall, it is likely that the ball is rolling",
          "truth": true
         },
         {
          "q": "Overall, it is likely that the ball is moving",
          "truth": true
         },
         {
          "q": "Overall, it is reasonable that the ball is rolling",
          "truth": true
         }
        ],
        "uploaded_time": "1638809328896"
       },
       {
        "answers": [
         {}
        ],
        "effect": "After a little bit, ball1 becomes quite heavy",
        "effect_questions": [
         {
          "q": "A few seconds following these changes, it is likely that ball0 is right of ball1",
          "truth": true
         },
         {
          "q": "A few seconds following these changes, it is reasonable that ball0 collided with the flat platform with a cliff to the right",
          "truth": true
         },
         {
          "q": "A few seconds following these changes, it is imposible that ball0 is left of ball1",
          "truth": true
         },
         {
          "q": "A few seconds following these changes, ball0 will begin to be rolling",
          "truth": false
         },
         {
          "q": "A few seconds following these changes, it is imposible that ball0 is below ball1",
          "truth": true
         },
         {
          "q": "A few seconds following these changes, ball0 will begin to move above ball1",
          "truth": false
         }
        ],
        "scene": "In a simulation, there is a ball (ball0), and another ball (ball1). They are placed in mid-air a bit above a flat platform with a cliff to the right, ball1 left of ball0.",
        "scene_questions": [
         {
          "q": "Across a fraction of a second, ball0 will not begin to move below ball1",
          "truth": true
         },
         {
          "q": "After a fraction of a second, it isimpossible that ball1 is moving",
          "truth": false
         },
         {
          "q": "After a fraction of a second, it is likely that ball0 is moving",
          "truth": true
         },
         {
          "q": "Across a few seconds of time, ball1 will begin to move right of ball0",
          "truth": false
         },
         {
          "q": "Across a fraction of a second, ball0 will begin to move above ball1",
          "truth": false
         },
         {
          "q": "Across a fraction of a second, ball1 will begin to move below ball0",
          "truth": false
         }
        ],
        "sim": "9064530",
        "start_time": 1638820752468,
        "total_questions": [
         {
          "q": "Overall, ball1 will begin to move right of ball0",
          "truth": false
         },
         {
          "q": "Overall, it is certain that ball1 is rolling",
          "truth": false
         },
         {
          "q": "Overall, it is unlikely that ball0 is left of ball1",
          "truth": true
         },
         {
          "q": "Overall, it is imposible that ball1 is above ball0",
          "truth": true
         },
         {
          "q": "Overall, ball0 will not begin to move left of ball1",
          "truth": true
         }
        ],
        "uploaded_time": "1638820761251"
       },
       {
        "answers": [
         {
          "effect-0": true,
          "effect-1": true,
          "effect-2": true,
          "effect-3": true,
          "effect-4": true,
          "scene-1": true,
          "scene-3": true,
          "scene-4": true,
          "scene-5": true
         }
        ],
        "effect": "After a little bit, the ball experiences very little gravity",
        "effect_questions": [
         {
          "q": "A few seconds following these changes, it is imposible that the ball is rolling",
          "truth": true
         },
         {
          "q": "A few seconds following these changes, it is likely that the ball collided with the flat platform with a cliff to the right",
          "truth": true
         },
         {
          "q": "A few seconds following these changes, it is certain that the ball is moving",
          "truth": false
         },
         {
          "q": "A few seconds following these changes, the ball will begin to be rolling",
          "truth": false
         },
         {
          "q": "A few seconds following these changes, it is reasonable that the ball collided with the flat platform with a cliff to the right",
          "truth": true
         },
         {
          "q": "A few seconds following these changes, the ball will not begin to be moving",
          "truth": true
         }
        ],
        "scene": "In a simulation, there is a ball. It is placed in mid-air a bit above a flat platform with a cliff to the right.",
        "scene_questions": [
         {
          "q": "After a fraction of a second, it isimpossible that the ball is moving",
          "truth": false
         },
         {
          "q": "After a fraction of a second, it is imposible that the ball is rolling",
          "truth": true
         },
         {
          "q": "After a fraction of a second, it is certain that the ball collided with the flat platform with a cliff to the right",
          "truth": false
         },
         {
          "q": "Across a fraction of a second, the ball will not begin to be rolling",
          "truth": true
         },
         {
          "q": "After a fraction of a second, it is certain that the ball is moving",
          "truth": true
         },
         {
          "q": "Across a fraction of a second, the ball will not begin to collide with the flat platform with a cliff to the right",
          "truth": true
         }
        ],
        "sim": "7793523",
        "start_time": 1638817380233,
        "total_questions": [
         {
          "q": "Overall, the ball will not begin to be rolling",
          "truth": true
         },
         {
          "q": "Overall, it is unlikely that the ball is moving",
          "truth": true
         },
         {
          "q": "Overall, the ball will not begin to collide with the flat platform with a cliff to the right",
          "truth": false
         },
         {
          "q": "Overall, it is imposible that the ball is rolling",
          "truth": true
         },
         {
          "q": "Overall, it is impossible that the ball collided with the flat platform with a cliff to the right",
          "truth": false
         }
        ],
        "uploaded_time": "1638817491389"
       },
       {
        "answers": [
         {
          "scene-4": true,
          "scene-5": true
         }
        ],
        "effect": "After a little bit, ball1 is pushed left",
        "effect_questions": [
         {
          "q": "A few seconds following these changes, it is reasonable that ball0 is left of ball2",
          "truth": true
         },
         {
          "q": "A few seconds following these changes, it is certain that ball1 is right of ball2",
          "truth": false
         },
         {
          "q": "A few seconds following these changes, it is certain that ball2 is left of ball1",
          "truth": false
         },
         {
          "q": "A few seconds following these changes, it is likely that ball2 is rolling",
          "truth": true
         }
        ],
        "scene": "In a simulation, there is a ball (ball0), another ball (ball1), and a third ball (ball2). They are placed in mid-air a bit above a staircase desending to the right, ball1 below of ball0, and ball2 right of ball0.",
        "scene_questions": [
         {
          "q": "After a few seconds of time, it is certain that ball2 collided with ball0",
          "truth": false
         },
         {
          "q": "After a fraction of a seccond, it is imposible that ball0 collided with ball2",
          "truth": true
         },
         {
          "q": "Across a fraction of a seccond, ball2 will begin to collide with ball1",
          "truth": false
         },
         {
          "q": "After a fraction of a seccond, it is certain that ball0 collided with ball2",
          "truth": false
         },
         {
          "q": "After a fraction of a seccond, it is unlikely that ball0 is right of ball2",
          "truth": true
         },
         {
          "q": "After a fraction of a seccond, it is unlikely that ball2 is below ball1",
          "truth": true
         }
        ],
        "sim": "5724182",
        "start_time": 1638809424391,
        "total_questions": [
         {
          "q": "Overall, it is imposible that ball2 is moving",
          "truth": false
         },
         {
          "q": "Overall, it is reasonable that ball0 is rolling",
          "truth": true
         },
         {
          "q": "Overall, it is reasonable that ball2 is above ball0",
          "truth": true
         },
         {
          "q": "Overall, it is unlikely that ball2 is left of ball1",
          "truth": true
         }
        ],
        "uploaded_time": "1638809504049"
       },
       {
        "answers": [
         {
          "scene-0": true,
          "scene-1": true,
          "scene-3": true,
          "scene-4": true
         }
        ],
        "effect": null,
        "effect_questions": [
         {
          "q": "A few seconds following these changes, it isimpossible that the ball is moving",
          "truth": false
         },
         {
          "q": "A few seconds following these changes, it is reasonable that the ball collided with the platform sloping down to the right",
          "truth": true
         },
         {
          "q": "A few seconds following these changes, it is impossible that the ball collided with the platform sloping down to the right",
          "truth": false
         },
         {
          "q": "A few seconds following these changes, it is likely that the ball is moving",
          "truth": true
         },
         {
          "q": "A few seconds following these changes, it is likely that the ball collided with the platform sloping down to the right",
          "truth": true
         }
        ],
        "scene": "In a simulation, there is a ball. It is placed in mid-air a bit above a platform sloping down to the right.",
        "scene_questions": [
         {
          "q": "After a fraction of a second, it isimpossible that the ball is moving",
          "truth": false
         },
         {
          "q": "After a few seconds of time, it is reasonable that the ball collided with the platform sloping down to the right",
          "truth": true
         },
         {
          "q": "After a fraction of a second, it is unlikely that the ball collided with the platform sloping down to the right",
          "truth": true
         },
         {
          "q": "After a fraction of a second, it is imposible that the ball is rolling",
          "truth": true
         },
         {
          "q": "After a fraction of a second, it is unlikely that the ball is rolling",
          "truth": true
         },
         {
          "q": "After a few seconds of time, it is impossible that the ball is rolling",
          "truth": false
         }
        ],
        "sim": "1937195",
        "start_time": 1638817492158,
        "total_questions": [
         {
          "q": "Overall, the ball will not begin to be rolling",
          "truth": false
         },
         {
          "q": "Overall, the ball may repeatedly be rolling",
          "truth": true
         },
         {
          "q": "Overall, the ball will begin to be rolling",
          "truth": true
         },
         {
          "q": "Overall, it is likely that the ball is rolling",
          "truth": true
         },
         {
          "q": "Overall, the ball will begin to be moving",
          "truth": true
         },
         {
          "q": "Overall, it is impossible that the ball is rolling",
          "truth": false
         }
        ],
        "uploaded_time": "1638817514404"
       },
       {
        "answers": [
         {
          "scene-4": true,
          "scene-5": true
         }
        ],
        "effect": null,
        "effect_questions": [
         {
          "q": "A few seconds following these changes, it is reasonable that the cube is below ball2",
          "truth": true
         },
         {
          "q": "A few seconds following these changes, it is likely that ball2 is below ball0",
          "truth": true
         },
         {
          "q": "A few seconds following these changes, it is impossible that ball2 is left of the cube",
          "truth": false
         },
         {
          "q": "A few seconds following these changes, it is certain that the cube is above ball0",
          "truth": false
         },
         {
          "q": "A few seconds following these changes, it is reasonable that ball2 collided with the staircase desending to the right",
          "truth": true
         },
         {
          "q": "A few seconds following these changes, it isimpossible that ball0 is left of the cube",
          "truth": false
         }
        ],
        "scene": "In a simulation, there is a ball (ball0), a cube, and another ball (ball2). They are placed in mid-air a bit above a staircase desending to the right, the cube right of ball0, and ball2 above of ball0.",
        "scene_questions": [
         {
          "q": "After a few seconds of time, it isimpossible that ball0 is moving",
          "truth": false
         },
         {
          "q": "After a fraction of a second, it is unlikely that the cube collided with the staircase desending to the right",
          "truth": true
         },
         {
          "q": "Across a fraction of a second, ball2 will begin to move below ball0",
          "truth": false
         },
         {
          "q": "After a few seconds of time, it is unlikely that ball0 is right of ball2",
          "truth": true
         },
         {
          "q": "Across a fraction of a second, ball2 will not begin to collide with the cube",
          "truth": true
         },
         {
          "q": "Across a fraction of a second, ball0 will not begin to collide with the cube",
          "truth": true
         }
        ],
        "sim": "3736404",
        "start_time": 1638817221308,
        "total_questions": [
         {
          "q": "Overall, it is unlikely that ball2 collided with ball0",
          "truth": true
         },
         {
          "q": "Overall, it is unlikely that the cube collided with ball2",
          "truth": true
         },
         {
          "q": "Overall, it is certain that the cube collided with ball2",
          "truth": false
         },
         {
          "q": "Overall, it is impossible that ball2 is moving",
          "truth": false
         },
         {
          "q": "Overall, it is reasonable that ball0 collided with the staircase desending to the right",
          "truth": true
         },
         {
          "q": "Overall, it is reasonable that ball0 is moving",
          "truth": true
         }
        ],
        "uploaded_time": "1638817378072"
       },
       {
        "answers": [
         {
          "scene-0": true,
          "scene-1": true,
          "scene-3": true
         }
        ],
        "effect": null,
        "effect_questions": [
         {
          "q": "A few seconds following these changes, cube0 will begin to move above cube2",
          "truth": false
         },
         {
          "q": "A few seconds following these changes, cube0 will begin to move below cube2",
          "truth": false
         },
         {
          "q": "A few seconds following these changes, it is imposible that cube0 collided with cube2",
          "truth": true
         },
         {
          "q": "A few seconds following these changes, it is impossible that the ball is left of cube2",
          "truth": false
         },
         {
          "q": "A few seconds following these changes, cube2 will not begin to move below cube0",
          "truth": true
         }
        ],
        "scene": "In a simulation, there is a cube (cube0), a ball, and another cube (cube2). They are placed in mid-air a bit above a bowl, the ball below of cube0, and cube2 above of cube0.",
        "scene_questions": [
         {
          "q": "After a few seconds of time, it is certain that cube0 collided with cube2",
          "truth": false
         },
         {
          "q": "Across a few seconds of time, cube0 will not begin to move above cube2",
          "truth": true
         },
         {
          "q": "Across a fraction of a second, the ball will begin to collide with cube2",
          "truth": false
         },
         {
          "q": "Across a fraction of a second, cube2 will not begin to move right of cube0",
          "truth": true
         },
         {
          "q": "After a fraction of a second, it is impossible that cube0 is moving",
          "truth": false
         },
         {
          "q": "After a fraction of a second, it is certain that the ball is left of cube0",
          "truth": false
         }
        ],
        "sim": "33814",
        "start_time": 1638817379386,
        "total_questions": [
         {
          "q": "Overall, cube0 will begin to move above cube2",
          "truth": false
         },
         {
          "q": "Overall, it is impossible that the ball is moving",
          "truth": false
         },
         {
          "q": "Overall, it is imposible that the ball is above cube0",
          "truth": true
         },
         {
          "q": "Overall, it is imposible that cube0 is above cube2",
          "truth": true
         },
         {
          "q": "Overall, it is unlikely that cube0 is left of the ball",
          "truth": true
         },
         {
          "q": "Overall, it is reasonable that cube0 collided with the bowl",
          "truth": true
         }
        ],
        "uploaded_time": "1638817483362"
       },
       {
        "answers": [
         {
          "effect-3": true,
          "effect-5": true,
          "scene-0": true,
          "scene-2": true,
          "scene-3": true,
          "total-1": true,
          "total-2": true,
          "total-3": true
         }
        ],
        "effect": "After a little bit, the ball is pushed down",
        "effect_questions": [
         {
          "q": "A few seconds following these changes, it is unlikely that the cube is right of the ball",
          "truth": true
         },
         {
          "q": "A few seconds following these changes, it is certain that the cube is moving",
          "truth": false
         },
         {
          "q": "A few seconds following these changes, it isimpossible that the cube is left of the ball",
          "truth": false
         },
         {
          "q": "A few seconds following these changes, it is likely that the ball is right of the cube",
          "truth": true
         },
         {
          "q": "A few seconds following these changes, the cube will begin to be moving",
          "truth": false
         },
         {
          "q": "A few seconds following these changes, it is likely that the cube is left of the ball",
          "truth": true
         }
        ],
        "scene": "In a simulation, there is a cube, and a ball. They are placed in a box, the ball right of the cube.",
        "scene_questions": [
         {
          "q": "After a fraction of a second, it is imposible that the ball is rolling",
          "truth": true
         },
         {
          "q": "After a few seconds of time, it is certain that the cube collided with the ball",
          "truth": false
         },
         {
          "q": "After a fraction of a second, it is imposible that the cube is right of the ball",
          "truth": true
         },
         {
          "q": "After a few seconds of time, it is unlikely that the cube is above the ball",
          "truth": true
         },
         {
          "q": "Across a fraction of a second, the cube will begin to move below the ball",
          "truth": false
         },
         {
          "q": "After a few seconds of time, it is certain that the cube is right of the ball",
          "truth": false
         }
        ],
        "sim": "4941554",
        "start_time": 1638817484129,
        "total_questions": [
         {
          "q": "Overall, it is certain that the ball is rolling",
          "truth": false
         },
         {
          "q": "Overall, it is unlikely that the cube is right of the ball",
          "truth": true
         },
         {
          "q": "Overall, it is unlikely that the cube is rolling",
          "truth": true
         },
         {
          "q": "Overall, it is likely that the cube collided with the box",
          "truth": true
         },
         {
          "q": "Overall, the ball will not begin to collide with the box",
          "truth": false
         }
        ],
        "uploaded_time": "1638817647576"
       },
       {
        "answers": [
         {
          "effect-0": true,
          "effect-2": true,
          "scene-2": true,
          "scene-5": true,
          "total-4": true
         }
        ],
        "effect": "After a little bit, ball1 disapears",
        "effect_questions": [
         {
          "q": "A few seconds following these changes, it is unlikely that ball1 is above ball0",
          "truth": true
         },
         {
          "q": "A few seconds following these changes, it is reasonable that ball1 is moving",
          "truth": true
         },
         {
          "q": "A few seconds following these changes, it is unlikely that ball1 is right of ball0",
          "truth": true
         },
         {
          "q": "A few seconds following these changes, it is certain that ball0 collided with ball1",
          "truth": false
         },
         {
          "q": "A few seconds following these changes, ball1 will begin to move right of ball0",
          "truth": false
         },
         {
          "q": "A few seconds following these changes, it is likely that ball1 is rolling",
          "truth": true
         }
        ],
        "scene": "In a simulation, there is a ball (ball0), and another ball (ball1). They are placed in mid-air a bit above a bowl, ball1 above of ball0.",
        "scene_questions": [
         {
          "q": "Across a fraction of a seccond, ball0 will not begin to be rolling",
          "truth": true
         },
         {
          "q": "After a fraction of a seccond, it is certain that ball0 is above ball1",
          "truth": false
         },
         {
          "q": "After a few seconds of time, it is likely that ball0 is moving",
          "truth": true
         },
         {
          "q": "After a few seconds of time, it is certain that ball0 is above ball1",
          "truth": false
         },
         {
          "q": "After a fraction of a seccond, it is unlikely that ball1 is left of ball0",
          "truth": true
         },
         {
          "q": "After a few seconds of time, it is likely that ball1 is moving",
          "truth": true
         }
        ],
        "sim": "1853723",
        "start_time": 1638805875829,
        "total_questions": [
         {
          "q": "Overall, it is certain that ball1 collided with ball0",
          "truth": false
         },
         {
          "q": "Overall, it is unlikely that ball0 is below ball1",
          "truth": true
         },
         {
          "q": "Overall, it is certain that ball1 is left of ball0",
          "truth": false
         },
         {
          "q": "Overall, it is imposible that ball1 is moving",
          "truth": false
         },
         {
          "q": "Overall, it is certain that ball1 is above ball0",
          "truth": false
         },
         {
          "q": "Overall, it is imposible that ball1 is below ball0",
          "truth": true
         }
        ],
        "uploaded_time": "1638805992554"
       },
       {
        "answers": [
         {
          "effect-2": true,
          "effect-4": true,
          "scene-0": true,
          "scene-1": true,
          "total-1": true,
          "total-2": true,
          "total-3": true
         }
        ],
        "effect": "After a little bit, the cube is pushed right",
        "effect_questions": [
         {
          "q": "A few seconds following these changes, the cube will begin to be rolling",
          "truth": false
         },
         {
          "q": "A few seconds following these changes, it is imposible that the cube is moving",
          "truth": false
         },
         {
          "q": "A few seconds following these changes, it is unlikely that the cube is rolling",
          "truth": true
         },
         {
          "q": "A few seconds following these changes, the cube will not begin to be rolling",
          "truth": true
         },
         {
          "q": "A few seconds following these changes, it is reasonable that the cube collided with the platform sloping down to the right",
          "truth": true
         }
        ],
        "scene": "In a simulation, there is a cube. It is placed in mid-air a bit above a platform sloping down to the right.",
        "scene_questions": [
         {
          "q": "After a few seconds of time, it is likely that the cube is moving",
          "truth": true
         },
         {
          "q": "Across a fraction of a seccond, the cube will begin to collide with the platform sloping down to the right",
          "truth": false
         },
         {
          "q": "After a fraction of a seccond, it is unlikely that the cube collided with the platform sloping down to the right",
          "truth": true
         },
         {
          "q": "After a few seconds of time, it is imposible that the cube collided with the platform sloping down to the right",
          "truth": false
         },
         {
          "q": "After a fraction of a seccond, it is imposible that the cube collided with the platform sloping down to the right",
          "truth": true
         }
        ],
        "sim": "7597818",
        "start_time": 1638805026595,
        "total_questions": [
         {
          "q": "Overall, the cube will not begin to collide with the platform sloping down to the right",
          "truth": false
         },
         {
          "q": "Overall, the cube will begin to be moving",
          "truth": true
         },
         {
          "q": "Overall, the cube may repeatedly collide with the platform sloping down to the right",
          "truth": true
         },
         {
          "q": "Overall, the cube will begin to collide with the platform sloping down to the right",
          "truth": true
         }
        ],
        "uploaded_time": "1638805205670"
       },
       {
        "answers": [
         {
          "effect-1": true,
          "scene-0": true,
          "scene-1": true,
          "scene-3": true,
          "total-0": true,
          "total-4": true
         }
        ],
        "effect": "After a little bit, cube1 does not experience gravity",
        "effect_questions": [
         {
          "q": "A few seconds following these changes, it is reasonable that cube1 is below cube2",
          "truth": true
         },
         {
          "q": "A few seconds following these changes, it is certain that cube2 is below the ball",
          "truth": false
         },
         {
          "q": "A few seconds following these changes, it is reasonable that cube2 is left of cube1",
          "truth": true
         },
         {
          "q": "A few seconds following these changes, it is unlikely that the ball collided with cube2",
          "truth": true
         },
         {
          "q": "A few seconds following these changes, it is unlikely that cube2 is below the ball",
          "truth": true
         },
         {
          "q": "A few seconds following these changes, it isimposible that cube1 is right of cube2",
          "truth": false
         }
        ],
        "scene": "In a simulation, there is a ball, a cube (cube1) which is rather big, and another cube (cube2). They are placed in mid-air a bit above a staircase desending to the right, cube1 above of the ball, and cube2 below of the ball.",
        "scene_questions": [
         {
          "q": "After a fraction of a seccond, it is unlikely that cube2 is rolling",
          "truth": true
         },
         {
          "q": "Across a few seconds of time, cube2 will not begin to move right of cube1",
          "truth": true
         },
         {
          "q": "After a few seconds of time, it is certain that cube1 is below cube2",
          "truth": false
         },
         {
          "q": "After a fraction of a seccond, it is imposible that the ball is left of cube1",
          "truth": true
         },
         {
          "q": "After a fraction of a seccond, it is certain that cube2 is left of the ball",
          "truth": false
         },
         {
          "q": "Across a fraction of a seccond, the ball will not begin to collide with cube2",
          "truth": true
         }
        ],
        "sim": "9959087",
        "start_time": 1638806392891,
        "total_questions": [
         {
          "q": "Overall, it is reasonable that the ball is rolling",
          "truth": true
         },
         {
          "q": "Overall, it is reasonable that cube2 is left of cube1",
          "truth": true
         },
         {
          "q": "Overall, it is reasonable that cube2 is left of the ball",
          "truth": true
         },
         {
          "q": "Overall, it is imposible that cube2 is left of the ball",
          "truth": false
         },
         {
          "q": "Overall, it is unlikely that cube2 collided with cube1",
          "truth": true
         },
         {
          "q": "Overall, it is imposible that cube1 is moving",
          "truth": false
         }
        ],
        "uploaded_time": "1638806516862"
       },
       {
        "answers": [
         {
          "scene-1": true
         }
        ],
        "effect": null,
        "effect_questions": [
         {
          "q": "A few seconds following these changes, it is imposible that the ball collided with the invPyramid",
          "truth": false
         },
         {
          "q": "A few seconds following these changes, it is reasonable that the ball collided with the invPyramid",
          "truth": true
         }
        ],
        "scene": "In a simulation, there is a ball. It is placed in mid-air a bit above a bowl.",
        "scene_questions": [
         {
          "q": "After a fraction of a seccond, it is imposible that the ball is moving",
          "truth": false
         },
         {
          "q": "After a fraction of a seccond, it is certain that the ball is moving",
          "truth": true
         },
         {
          "q": "Across a fraction of a seccond, the ball will not begin to collide with the invPyramid",
          "truth": true
         },
         {
          "q": "After a fraction of a seccond, it is certain that the ball collided with the invPyramid",
          "truth": false
         },
         {
          "q": "After a fraction of a seccond, it is unlikely that the ball is moving",
          "truth": false
         },
         {
          "q": "After a few seconds of time, it is imposible that the ball is rolling",
          "truth": false
         }
        ],
        "sim": "2470314",
        "start_time": 1638804957022,
        "total_questions": [
         {
          "q": "Overall, it is imposible that the ball is rolling",
          "truth": false
         },
         {
          "q": "Overall, it is reasonable that the ball is rolling",
          "truth": true
         },
         {
          "q": "Overall, the ball may repeatedly be moving",
          "truth": true
         },
         {
          "q": "Overall, it is reasonable that the ball is moving",
          "truth": true
         },
         {
          "q": "Overall, the ball may repeatedly be rolling",
          "truth": true
         }
        ],
        "uploaded_time": "1638805025915"
       },
       {
        "answers": [
         {
          "effect-0": true,
          "effect-2": true,
          "scene-0": true,
          "scene-2": true,
          "scene-4": true,
          "total-2": true,
          "total-3": true
         }
        ],
        "effect": "After a little bit, cube1 is pushed up",
        "effect_questions": [
         {
          "q": "A few seconds following these changes, it is impossible that cube0 is right of cube1",
          "truth": false
         },
         {
          "q": "A few seconds following these changes, it is likely that cube0 is left of cube1",
          "truth": true
         },
         {
          "q": "A few seconds following these changes, cube1 will not begin to collide with the platform",
          "truth": true
         },
         {
          "q": "A few seconds following these changes, cube1 will begin to collide with cube0",
          "truth": false
         },
         {
          "q": "A few seconds following these changes, it is impossible that cube1 is moving",
          "truth": false
         },
         {
          "q": "A few seconds following these changes, it isimpossible that cube1 is right of cube0",
          "truth": false
         }
        ],
        "scene": "In a simulation, there is a cube (cube0), and another cube (cube1) which is very bouncy. They are placed in mid-air a bit above a platform, cube1 above of cube0.",
        "scene_questions": [
         {
          "q": "After a few seconds of time, it is imposible that cube1 is below cube0",
          "truth": true
         },
         {
          "q": "Across a fraction of a second, cube0 will begin to move above cube1",
          "truth": false
         },
         {
          "q": "Across a few seconds of time, cube1 will begin to be moving",
          "truth": true
         },
         {
          "q": "After a few seconds of time, it is reasonable that cube1 is moving",
          "truth": true
         },
         {
          "q": "After a fraction of a second, it is imposible that cube0 is rolling",
          "truth": true
         },
         {
          "q": "Across a fraction of a second, cube1 will begin to be rolling",
          "truth": false
         }
        ],
        "sim": "8698583",
        "start_time": 1638837707935,
        "total_questions": [
         {
          "q": "Overall, it isimpossible that cube0 collided with the platform",
          "truth": false
         },
         {
          "q": "Overall, it is certain that cube1 collided with the platform",
          "truth": false
         },
         {
          "q": "Overall, it is reasonable that cube0 is below cube1",
          "truth": true
         },
         {
          "q": "Overall, it is unlikely that cube0 is above cube1",
          "truth": true
         },
         {
          "q": "Overall, it is unlikely that cube1 is below cube0",
          "truth": true
         },
         {
          "q": "Overall, it is certain that cube0 is above cube1",
          "truth": false
         }
        ],
        "uploaded_time": "1638837998653"
       },
       {
        "answers": [
         {
          "scene-0": true
         }
        ],
        "effect": null,
        "effect_questions": [
         {
          "q": "A few seconds following these changes, it is certain that ball0 is below ball2",
          "truth": false
         },
         {
          "q": "A few seconds following these changes, it is imposible that ball0 collided with ball2",
          "truth": true
         },
         {
          "q": "A few seconds following these changes, it isimposible that ball0 is right of ball2",
          "truth": false
         },
         {
          "q": "A few seconds following these changes, it is imposible that ball1 is above ball2",
          "truth": true
         },
         {
          "q": "A few seconds following these changes, it is likely that ball2 is right of ball0",
          "truth": true
         },
         {
          "q": "A few seconds following these changes, it is certain that ball1 is above ball2",
          "truth": false
         }
        ],
        "scene": "In a simulation, there is a ball (ball0), another ball (ball1), and a third ball (ball2). They are placed in mid-air a bit above a flat platform with a cliff to the right, ball1 right of ball0, and ball2 below of ball0.",
        "scene_questions": [
         {
          "q": "Across a few seconds of time, ball1 will not begin to move left of ball0",
          "truth": true
         },
         {
          "q": "After a fraction of a seccond, it is imposible that ball0 is left of ball1",
          "truth": false
         },
         {
          "q": "After a few seconds of time, it is imposible that ball1 is left of ball0",
          "truth": true
         },
         {
          "q": "After a fraction of a seccond, it is imposible that ball2 collided with ball0",
          "truth": true
         },
         {
          "q": "After a fraction of a seccond, it is imposible that ball1 is right of ball0",
          "truth": false
         },
         {
          "q": "After a fraction of a seccond, it is imposible that ball0 is above ball1",
          "truth": true
         }
        ],
        "sim": "5583253",
        "start_time": 1638804997117,
        "total_questions": [
         {
          "q": "Overall, it is imposible that ball1 is rolling",
          "truth": false
         },
         {
          "q": "Overall, it is unlikely that ball2 collided with ball0",
          "truth": true
         },
         {
          "q": "Overall, it is unlikely that ball0 is above ball2",
          "truth": true
         },
         {
          "q": "Overall, it is certain that ball1 is above ball2",
          "truth": false
         },
         {
          "q": "Overall, it is imposible that ball1 is above ball0",
          "truth": true
         },
         {
          "q": "Overall, ball0 will begin to be moving",
          "truth": true
         }
        ],
        "uploaded_time": "1638805110956"
       },
       {
        "answers": [
         {}
        ],
        "effect": "After a little bit, the cube becomes quite light",
        "effect_questions": [
         {
          "q": "A few seconds following these changes, it is reasonable that the ball is rolling",
          "truth": true
         },
         {
          "q": "A few seconds following these changes, the cube will not begin to be moving",
          "truth": true
         },
         {
          "q": "A few seconds following these changes, it is reasonable that the ball collided with the cube",
          "truth": true
         },
         {
          "q": "A few seconds following these changes, it is likely that the ball is rolling",
          "truth": true
         },
         {
          "q": "A few seconds following these changes, it is unlikely that the cube is below the ball",
          "truth": true
         },
         {
          "q": "A few seconds following these changes, it is impossible that the cube is right of the ball",
          "truth": false
         }
        ],
        "scene": "In a simulation, there is a ball, and a cube. They are placed in mid-air a bit above a flat platform with a cliff to the right, the cube below of the ball.",
        "scene_questions": [
         {
          "q": "After a few seconds of time, it is certain that the cube is rolling",
          "truth": false
         },
         {
          "q": "After a fraction of a second, it isimpossible that the ball is moving",
          "truth": false
         },
         {
          "q": "After a fraction of a second, it is unlikely that the ball collided with the flat platform with a cliff to the right",
          "truth": true
         },
         {
          "q": "Across a few seconds of time, the cube will begin to collide with the flat platform with a cliff to the right",
          "truth": true
         }
        ],
        "sim": "5145735",
        "start_time": 1638820746308,
        "total_questions": [
         {
          "q": "Overall, it is reasonable that the ball is rolling",
          "truth": true
         },
         {
          "q": "Overall, the cube will begin to collide with the flat platform with a cliff to the right",
          "truth": true
         },
         {
          "q": "Overall, it is unlikely that the cube is below the ball",
          "truth": true
         },
         {
          "q": "Overall, it is certain that the cube is rolling",
          "truth": false
         },
         {
          "q": "Overall, the ball may repeatedly collide with the flat platform with a cliff to the right",
          "truth": true
         }
        ],
        "uploaded_time": "1638820750899"
       },
       {
        "answers": [
         {
          "scene-2": true,
          "scene-4": true
         }
        ],
        "effect": null,
        "effect_questions": [
         {
          "q": "A few seconds following these changes, it is likely that ball0 is rolling",
          "truth": true
         },
         {
          "q": "A few seconds following these changes, it isimposible that ball2 is right of ball1",
          "truth": false
         },
         {
          "q": "A few seconds following these changes, ball1 will not begin to move right of ball0",
          "truth": true
         },
         {
          "q": "A few seconds following these changes, it is reasonable that ball1 is right of ball2",
          "truth": true
         },
         {
          "q": "A few seconds following these changes, ball2 will not begin to move right of ball0",
          "truth": true
         }
        ],
        "scene": "In a simulation, there is a ball (ball0), another ball (ball1), and a third ball (ball2). They are placed in mid-air a bit above a platform, ball1 left of ball0, and ball2 below of ball1.",
        "scene_questions": [
         {
          "q": "Across a few seconds of time, ball1 will not begin to be moving",
          "truth": false
         },
         {
          "q": "Across a fraction of a seccond, ball0 will not begin to move left of ball1",
          "truth": true
         },
         {
          "q": "Across a few seconds of time, ball2 will begin to be moving",
          "truth": true
         },
         {
          "q": "After a few seconds of time, it is unlikely that ball0 is below ball2",
          "truth": true
         },
         {
          "q": "Across a few seconds of time, ball0 will not begin to collide with the platform",
          "truth": false
         },
         {
          "q": "After a few seconds of time, it is imposible that ball1 is moving",
          "truth": false
         }
        ],
        "sim": "3910123",
        "start_time": 1638804939779,
        "total_questions": [
         {
          "q": "Overall, ball1 will not begin to collide with the platform",
          "truth": false
         },
         {
          "q": "Overall, it is imposible that ball0 is left of ball1",
          "truth": true
         },
         {
          "q": "Overall, it is unlikely that ball0 is left of ball2",
          "truth": true
         },
         {
          "q": "Overall, it is reasonable that ball0 collided with the platform",
          "truth": true
         },
         {
          "q": "Overall, it is certain that ball0 is left of ball1",
          "truth": false
         },
         {
          "q": "Overall, it is certain that ball2 is above ball1",
          "truth": false
         }
        ],
        "uploaded_time": "1638804996446"
       },
       {
        "answers": [
         {
          "effect-1": true,
          "scene-1": true,
          "scene-3": true,
          "total-2": true
         }
        ],
        "effect": "After a little bit, cube0 is very slipery",
        "effect_questions": [
         {
          "q": "A few seconds following these changes, it isimposible that cube1 is above the ball",
          "truth": false
         },
         {
          "q": "A few seconds following these changes, it is reasonable that cube0 collided with the staircase desending to the right",
          "truth": true
         },
         {
          "q": "A few seconds following these changes, it is unlikely that the ball is above cube0",
          "truth": true
         },
         {
          "q": "A few seconds following these changes, it is imposible that cube1 collided with the staircase desending to the right",
          "truth": false
         },
         {
          "q": "A few seconds following these changes, it is unlikely that cube0 collided with the ball",
          "truth": true
         },
         {
          "q": "A few seconds following these changes, it is unlikely that cube0 is below the ball",
          "truth": true
         }
        ],
        "scene": "In a simulation, there is a cube (cube0), another cube (cube1), and a ball. They are placed in mid-air a bit above a staircase desending to the right, cube1 right of cube0, and the ball right of cube1.",
        "scene_questions": [
         {
          "q": "After a fraction of a seccond, it is imposible that cube1 is above cube0",
          "truth": true
         },
         {
          "q": "After a fraction of a seccond, it is unlikely that cube1 is rolling",
          "truth": true
         },
         {
          "q": "After a fraction of a seccond, it is imposible that cube1 is below the ball",
          "truth": true
         },
         {
          "q": "After a fraction of a seccond, it is reasonable that cube1 is right of cube0",
          "truth": true
         },
         {
          "q": "Across a fraction of a seccond, cube1 will begin to collide with the ball",
          "truth": false
         },
         {
          "q": "After a fraction of a seccond, it is certain that cube1 is right of the ball",
          "truth": false
         }
        ],
        "sim": "7189559",
        "start_time": 1638810119254,
        "total_questions": [
         {
          "q": "Overall, it is certain that cube0 is below cube1",
          "truth": false
         },
         {
          "q": "Overall, it is certain that cube0 is right of the ball",
          "truth": false
         },
         {
          "q": "Overall, it is reasonable that cube1 collided with the staircase desending to the right",
          "truth": true
         },
         {
          "q": "Overall, it isimposible that the ball is right of cube0",
          "truth": false
         },
         {
          "q": "Overall, it is unlikely that cube0 is below cube1",
          "truth": true
         },
         {
          "q": "Overall, it is certain that cube0 is below the ball",
          "truth": false
         }
        ],
        "uploaded_time": "1638810295961"
       },
       {
        "answers": [
         {
          "scene-2": true,
          "scene-3": true,
          "scene-4": true,
          "total-0": true
         }
        ],
        "effect": "After a little bit, ball1 experiences very little gravity",
        "effect_questions": [
         {
          "q": "A few seconds following these changes, it is imposible that ball0 is right of ball1",
          "truth": true
         },
         {
          "q": "A few seconds following these changes, ball0 will begin to move right of ball1",
          "truth": false
         },
         {
          "q": "A few seconds following these changes, it is imposible that ball1 collided with the invPyramid",
          "truth": false
         },
         {
          "q": "A few seconds following these changes, it isimposible that ball1 collided with the invPyramid",
          "truth": false
         },
         {
          "q": "A few seconds following these changes, ball0 will begin to move below ball1",
          "truth": false
         },
         {
          "q": "A few seconds following these changes, ball1 will not begin to move below ball0",
          "truth": true
         }
        ],
        "scene": "In a simulation, there is a ball (ball0), and another ball (ball1). They are placed in mid-air a bit above a bowl, ball1 right of ball0.",
        "scene_questions": [
         {
          "q": "Across a few seconds of time, ball1 will not begin to move above ball0",
          "truth": true
         },
         {
          "q": "After a fraction of a seccond, it is imposible that ball0 collided with ball1",
          "truth": true
         },
         {
          "q": "After a fraction of a seccond, it is likely that ball1 is moving",
          "truth": true
         },
         {
          "q": "After a fraction of a seccond, it is unlikely that ball0 is below ball1",
          "truth": true
         },
         {
          "q": "After a fraction of a seccond, it is unlikely that ball0 is right of ball1",
          "truth": true
         },
         {
          "q": "After a few seconds of time, it is imposible that ball1 is rolling",
          "truth": false
         }
        ],
        "sim": "723171",
        "start_time": 1638809329629,
        "total_questions": [
         {
          "q": "Overall, it is imposible that ball0 is right of ball1",
          "truth": true
         },
         {
          "q": "Overall, it is certain that ball0 is below ball1",
          "truth": false
         },
         {
          "q": "Overall, ball0 will begin to move right of ball1",
          "truth": false
         },
         {
          "q": "Overall, ball1 will begin to move below ball0",
          "truth": false
         },
         {
          "q": "Overall, it is unlikely that ball1 is right of ball0",
          "truth": true
         },
         {
          "q": "Overall, ball0 will not begin to move right of ball1",
          "truth": true
         }
        ],
        "uploaded_time": "1638809820601"
       },
       {
        "answers": [
         {
          "scene-3": true
         }
        ],
        "effect": null,
        "effect_questions": [
         {
          "q": "A few seconds following these changes, the ball will not begin to be moving",
          "truth": true
         },
         {
          "q": "A few seconds following these changes, it is certain that the ball is moving",
          "truth": false
         },
         {
          "q": "A few seconds following these changes, it is imposible that the ball is rolling",
          "truth": true
         },
         {
          "q": "A few seconds following these changes, the ball will begin to be rolling",
          "truth": false
         },
         {
          "q": "A few seconds following these changes, it is imposible that the ball is moving",
          "truth": true
         }
        ],
        "scene": "In a simulation, there is a ball. It is placed in mid-air a bit above a flat platform with a cliff to the right.",
        "scene_questions": [
         {
          "q": "After a fraction of a seccond, it is unlikely that the ball collided with the flat platform with a cliff to the right",
          "truth": true
         },
         {
          "q": "After a fraction of a seccond, it is unlikely that the ball is moving",
          "truth": false
         },
         {
          "q": "Across a fraction of a seccond, the ball will not begin to collide with the flat platform with a cliff to the right",
          "truth": true
         },
         {
          "q": "Across a few seconds of time, the ball will begin to be rolling",
          "truth": false
         },
         {
          "q": "After a fraction of a seccond, it is imposible that the ball is moving",
          "truth": false
         }
        ],
        "sim": "7474958",
        "start_time": 1638808457366,
        "total_questions": [
         {
          "q": "Overall, the ball will not begin to collide with the flat platform with a cliff to the right",
          "truth": false
         },
         {
          "q": "Overall, it is certain that the ball is moving",
          "truth": false
         },
         {
          "q": "Overall, the ball will begin to be rolling",
          "truth": false
         },
         {
          "q": "Overall, it is imposible that the ball is rolling",
          "truth": true
         },
         {
          "q": "Overall, it is unlikely that the ball is moving",
          "truth": true
         }
        ],
        "uploaded_time": "1638808480731"
       },
       {
        "answers": [
         {
          "scene-1": true,
          "scene-4": true
         }
        ],
        "effect": null,
        "effect_questions": [
         {
          "q": "A few seconds following these changes, it is unlikely that the ball is rolling",
          "truth": true
         },
         {
          "q": "A few seconds following these changes, it is imposible that the ball is rolling",
          "truth": true
         },
         {
          "q": "A few seconds following these changes, it is likely that the ball is moving",
          "truth": true
         },
         {
          "q": "A few seconds following these changes, the ball will begin to be rolling",
          "truth": false
         },
         {
          "q": "A few seconds following these changes, it is imposible that the ball is moving",
          "truth": false
         }
        ],
        "scene": "In a simulation, there is a ball which experiences reversed gravity. It is placed in mid-air a bit above a platform.",
        "scene_questions": [
         {
          "q": "After a fraction of a seccond, it is certain that the ball is rolling",
          "truth": false
         },
         {
          "q": "Across a few seconds of time, the ball will begin to be moving",
          "truth": true
         },
         {
          "q": "After a few seconds of time, it is imposible that the ball is rolling",
          "truth": true
         },
         {
          "q": "After a few seconds of time, it is certain that the ball is rolling",
          "truth": false
         },
         {
          "q": "Across a fraction of a seccond, the ball will not begin to be rolling",
          "truth": true
         },
         {
          "q": "After a few seconds of time, it is likely that the ball is moving",
          "truth": true
         }
        ],
        "sim": "2896305",
        "start_time": 1638804908285,
        "total_questions": [
         {
          "q": "Overall, it is unlikely that the ball is rolling",
          "truth": true
         },
         {
          "q": "Overall, it is likely that the ball is moving",
          "truth": true
         },
         {
          "q": "Overall, it is reasonable that the ball is moving",
          "truth": true
         },
         {
          "q": "Overall, the ball will begin to be rolling",
          "truth": false
         }
        ],
        "uploaded_time": "1638804939104"
       },
       {
        "answers": [
         {
          "effect-0": true,
          "effect-4": true,
          "effect-5": true,
          "scene-0": true,
          "scene-1": true,
          "scene-4": true,
          "scene-5": true,
          "total-0": true,
          "total-1": true,
          "total-2": true
         }
        ],
        "effect": "After a little bit, cube0 gains a good amount of friction",
        "effect_questions": [
         {
          "q": "A few seconds following these changes, it is imposible that cube2 is rolling",
          "truth": true
         },
         {
          "q": "A few seconds following these changes, it isimpossible that cube0 collided with the platform",
          "truth": false
         },
         {
          "q": "A few seconds following these changes, it is impossible that cube1 collided with the platform",
          "truth": false
         },
         {
          "q": "A few seconds following these changes, it is reasonable that cube2 collided with cube0",
          "truth": true
         },
         {
          "q": "A few seconds following these changes, it is unlikely that cube1 is left of cube2",
          "truth": true
         },
         {
          "q": "A few seconds following these changes, it is impossible that cube0 collided with cube2",
          "truth": false
         }
        ],
        "scene": "In a simulation, there is a cube (cube0), another cube (cube1), and a third cube (cube2). They are placed in mid-air a bit above a platform, cube1 right of cube0, and cube2 left of cube1.",
        "scene_questions": [
         {
          "q": "After a fraction of a second, it is impossible that cube0 is left of cube1",
          "truth": false
         },
         {
          "q": "After a few seconds of time, it is reasonable that cube0 collided with the platform",
          "truth": true
         },
         {
          "q": "After a few seconds of time, it is certain that cube2 is below cube1",
          "truth": false
         },
         {
          "q": "After a fraction of a second, it is certain that cube2 is above cube1",
          "truth": false
         },
         {
          "q": "After a fraction of a second, it is unlikely that cube2 is rolling",
          "truth": true
         },
         {
          "q": "Across a fraction of a second, cube1 will not begin to move left of cube0",
          "truth": true
         }
        ],
        "sim": "1350591",
        "start_time": 1638817772296,
        "total_questions": [
         {
          "q": "Overall, it is unlikely that cube2 collided with cube1",
          "truth": true
         },
         {
          "q": "Overall, it is unlikely that cube2 is below cube1",
          "truth": true
         },
         {
          "q": "Overall, cube2 will not begin to move above cube1",
          "truth": true
         },
         {
          "q": "Overall, it is certain that cube2 is below cube0",
          "truth": false
         },
         {
          "q": "Overall, cube2 will not begin to collide with the platform",
          "truth": false
         }
        ],
        "uploaded_time": "1638817963878"
       },
       {
        "answers": [
         {
          "scene-0": true,
          "scene-2": true,
          "total-0": true,
          "total-2": true,
          "total-3": true,
          "total-4": true
         }
        ],
        "effect": "After a little bit, the ball experiences very little gravity",
        "effect_questions": [],
        "scene": "In a simulation, there is a ball. It is placed in mid-air a bit above a bowl.",
        "scene_questions": [
         {
          "q": "After a fraction of a seccond, it is likely that the ball is moving",
          "truth": true
         },
         {
          "q": "After a few seconds of time, it is imposible that the ball is rolling",
          "truth": false
         },
         {
          "q": "After a few seconds of time, it is likely that the ball is moving",
          "truth": true
         },
         {
          "q": "After a fraction of a seccond, it is imposible that the ball is rolling",
          "truth": true
         }
        ],
        "sim": "1713042",
        "start_time": 1638809222223,
        "total_questions": [
         {
          "q": "Overall, it is reasonable that the ball is moving",
          "truth": true
         },
         {
          "q": "Overall, it is imposible that the ball is rolling",
          "truth": false
         },
         {
          "q": "Overall, it is likely that the ball is rolling",
          "truth": true
         },
         {
          "q": "Overall, it is likely that the ball is moving",
          "truth": true
         },
         {
          "q": "Overall, it is reasonable that the ball is rolling",
          "truth": true
         }
        ],
        "uploaded_time": "1638809284309"
       },
       {
        "answers": [
         {
          "scene-1": true
         }
        ],
        "effect": null,
        "effect_questions": [
         {
          "q": "A few seconds following these changes, it isimposible that the cube collided with the staircase desending to the right",
          "truth": false
         },
         {
          "q": "A few seconds following these changes, it is imposible that the cube collided with the staircase desending to the right",
          "truth": false
         },
         {
          "q": "A few seconds following these changes, it is reasonable that the cube collided with the staircase desending to the right",
          "truth": true
         }
        ],
        "scene": "In a simulation, there is a cube. It is placed in mid-air a bit above a staircase desending to the right.",
        "scene_questions": [
         {
          "q": "After a few seconds of time, it isimposible that the cube is moving",
          "truth": false
         },
         {
          "q": "After a fraction of a seccond, it is certain that the cube collided with the staircase desending to the right",
          "truth": false
         },
         {
          "q": "After a few seconds of time, it is imposible that the cube is moving",
          "truth": false
         },
         {
          "q": "Across a fraction of a seccond, the cube will begin to collide with the staircase desending to the right",
          "truth": false
         },
         {
          "q": "Across a fraction of a seccond, the cube will begin to be rolling",
          "truth": false
         }
        ],
        "sim": "5984038",
        "start_time": 1638803704438,
        "total_questions": [
         {
          "q": "Overall, the cube may repeatedly collide with the staircase desending to the right",
          "truth": true
         },
         {
          "q": "Overall, the cube will not begin to collide with the staircase desending to the right",
          "truth": false
         },
         {
          "q": "Overall, it is imposible that the cube collided with the staircase desending to the right",
          "truth": false
         },
         {
          "q": "Overall, it is reasonable that the cube is moving",
          "truth": true
         },
         {
          "q": "Overall, it is reasonable that the cube collided with the staircase desending to the right",
          "truth": true
         }
        ],
        "uploaded_time": "1638804854519"
       },
       {
        "answers": [
         {
          "scene-0": true
         }
        ],
        "effect": null,
        "effect_questions": [
         {
          "q": "A few seconds following these changes, it is imposible that the cube collided with the invPyramid",
          "truth": false
         },
         {
          "q": "A few seconds following these changes, the cube will not begin to be moving",
          "truth": true
         },
         {
          "q": "A few seconds following these changes, it is unlikely that the cube is rolling",
          "truth": true
         },
         {
          "q": "A few seconds following these changes, it is reasonable that the cube collided with the invPyramid",
          "truth": true
         },
         {
          "q": "A few seconds following these changes, the cube will begin to be rolling",
          "truth": false
         }
        ],
        "scene": "In a simulation, there is a cube which is very slipery. It is placed in mid-air a bit above a bowl.",
        "scene_questions": [
         {
          "q": "After a fraction of a seccond, it is certain that the cube is moving",
          "truth": true
         },
         {
          "q": "Across a few seconds of time, the cube will begin to collide with the invPyramid",
          "truth": true
         },
         {
          "q": "Across a fraction of a seccond, the cube will not begin to be rolling",
          "truth": true
         },
         {
          "q": "Across a fraction of a seccond, the cube will begin to collide with the invPyramid",
          "truth": false
         },
         {
          "q": "After a fraction of a seccond, it is unlikely that the cube collided with the invPyramid",
          "truth": true
         }
        ],
        "sim": "3370228",
        "start_time": 1638808217252,
        "total_questions": [
         {
          "q": "Overall, it is imposible that the cube collided with the invPyramid",
          "truth": false
         },
         {
          "q": "Overall, the cube will begin to collide with the invPyramid",
          "truth": true
         },
         {
          "q": "Overall, it is reasonable that the cube collided with the invPyramid",
          "truth": true
         },
         {
          "q": "Overall, it is likely that the cube collided with the invPyramid",
          "truth": true
         },
         {
          "q": "Overall, it is unlikely that the cube is rolling",
          "truth": true
         }
        ],
        "uploaded_time": "1638808268044"
       },
       {
        "answers": [
         {
          "scene-0": true,
          "scene-1": true,
          "scene-4": true
         }
        ],
        "effect": null,
        "effect_questions": [
         {
          "q": "A few seconds following these changes, it is imposible that the ball is moving",
          "truth": true
         },
         {
          "q": "A few seconds following these changes, it is unlikely that the ball is moving",
          "truth": true
         },
         {
          "q": "A few seconds following these changes, the ball will begin to be rolling",
          "truth": false
         },
         {
          "q": "A few seconds following these changes, the ball will not begin to be rolling",
          "truth": true
         },
         {
          "q": "A few seconds following these changes, the ball will not begin to be moving",
          "truth": true
         },
         {
          "q": "A few seconds following these changes, it is certain that the ball is moving",
          "truth": false
         }
        ],
        "scene": "In a simulation, there is a ball which does not experience gravity. It is placed in mid-air a bit above a platform sloping down to the right.",
        "scene_questions": [
         {
          "q": "After a fraction of a seccond, it is unlikely that the ball is moving",
          "truth": true
         },
         {
          "q": "After a few seconds of time, it is unlikely that the ball is moving",
          "truth": true
         },
         {
          "q": "Across a fraction of a seccond, the ball will begin to be moving",
          "truth": false
         },
         {
          "q": "Across a fraction of a seccond, the ball will begin to be rolling",
          "truth": false
         },
         {
          "q": "Across a few seconds of time, the ball will not begin to be rolling",
          "truth": true
         }
        ],
        "sim": "3948431",
        "start_time": 1638805994103,
        "total_questions": [
         {
          "q": "Overall, it is unlikely that the ball is rolling",
          "truth": true
         },
         {
          "q": "Overall, it is certain that the ball is moving",
          "truth": false
         },
         {
          "q": "Overall, the ball will begin to be moving",
          "truth": false
         },
         {
          "q": "Overall, the ball will not begin to be rolling",
          "truth": true
         },
         {
          "q": "Overall, it is unlikely that the ball is moving",
          "truth": true
         }
        ],
        "uploaded_time": "1638806020982"
       },
       {
        "answers": [
         {
          "effect-3": true,
          "effect-4": true,
          "scene-1": true,
          "scene-2": true,
          "total-1": true,
          "total-3": true
         }
        ],
        "effect": "After a little bit, the cube is pushed right",
        "effect_questions": [
         {
          "q": "A few seconds following these changes, it is likely that the cube is moving",
          "truth": true
         },
         {
          "q": "A few seconds following these changes, it is certain that the cube is rolling",
          "truth": false
         },
         {
          "q": "A few seconds following these changes, the cube will begin to be rolling",
          "truth": false
         },
         {
          "q": "A few seconds following these changes, it is reasonable that the cube collided with the platform",
          "truth": true
         },
         {
          "q": "A few seconds following these changes, it is likely that the cube collided with the platform",
          "truth": true
         },
         {
          "q": "A few seconds following these changes, the cube will not begin to be rolling",
          "truth": true
         }
        ],
        "scene": "In a simulation, there is a cube. It is placed in mid-air a bit above a platform.",
        "scene_questions": [
         {
          "q": "After a fraction of a seccond, it is imposible that the cube is rolling",
          "truth": true
         },
         {
          "q": "After a few seconds of time, it is imposible that the cube is moving",
          "truth": false
         },
         {
          "q": "After a fraction of a seccond, it is reasonable that the cube is moving",
          "truth": true
         },
         {
          "q": "After a fraction of a seccond, it is certain that the cube is rolling",
          "truth": false
         },
         {
          "q": "Across a fraction of a seccond, the cube will begin to be rolling",
          "truth": false
         }
        ],
        "sim": "656849",
        "start_time": 1638804725581,
        "total_questions": [
         {
          "q": "Overall, it is imposible that the cube collided with the platform",
          "truth": false
         },
         {
          "q": "Overall, it is reasonable that the cube collided with the platform",
          "truth": true
         },
         {
          "q": "Overall, it is certain that the cube is rolling",
          "truth": false
         },
         {
          "q": "Overall, it is likely that the cube collided with the platform",
          "truth": true
         },
         {
          "q": "Overall, the cube will not begin to collide with the platform",
          "truth": false
         }
        ],
        "uploaded_time": "1638804870343"
       },
       {
        "answers": [
         {
          "scene-0": true,
          "scene-5": true
         }
        ],
        "effect": null,
        "effect_questions": [
         {
          "q": "A few seconds following these changes, it is reasonable that ball1 collided with the flat platform with a cliff to the right",
          "truth": true
         },
         {
          "q": "A few seconds following these changes, it is unlikely that ball2 is above ball1",
          "truth": true
         },
         {
          "q": "A few seconds following these changes, it is imposible that ball2 is right of the cube",
          "truth": false
         },
         {
          "q": "A few seconds following these changes, it is reasonable that ball1 is rolling",
          "truth": true
         },
         {
          "q": "A few seconds following these changes, ball2 will begin to move below the cube",
          "truth": false
         },
         {
          "q": "A few seconds following these changes, it is likely that ball1 is moving",
          "truth": true
         }
        ],
        "scene": "In a simulation, there is a cube, a ball (ball1), and another ball (ball2). They are placed in mid-air a bit above a flat platform with a cliff to the right, ball1 above of the cube, and ball2 below of ball1.",
        "scene_questions": [
         {
          "q": "Across a fraction of a seccond, ball1 will not begin to move right of ball2",
          "truth": true
         },
         {
          "q": "Across a fraction of a seccond, ball1 will begin to move below ball2",
          "truth": false
         },
         {
          "q": "Across a fraction of a seccond, the cube will begin to be rolling",
          "truth": false
         },
         {
          "q": "Across a fraction of a seccond, ball1 will begin to move below the cube",
          "truth": false
         },
         {
          "q": "Across a fraction of a seccond, ball1 will begin to collide with the cube",
          "truth": false
         },
         {
          "q": "After a fraction of a seccond, it is imposible that ball2 is right of the cube",
          "truth": true
         }
        ],
        "sim": "5033113",
        "start_time": 1638809821415,
        "total_questions": [
         {
          "q": "Overall, ball1 will begin to collide with the flat platform with a cliff to the right",
          "truth": true
         },
         {
          "q": "Overall, ball2 will not begin to collide with the flat platform with a cliff to the right",
          "truth": false
         },
         {
          "q": "Overall, it is certain that the cube is left of ball1",
          "truth": false
         },
         {
          "q": "Overall, it is imposible that ball2 is rolling",
          "truth": false
         },
         {
          "q": "Overall, the cube will not begin to move above ball1",
          "truth": true
         },
         {
          "q": "Overall, it is reasonable that the cube collided with ball1",
          "truth": true
         }
        ],
        "uploaded_time": "1638809888597"
       },
       {
        "answers": [
         {
          "scene-0": true,
          "scene-2": true,
          "scene-5": true
         }
        ],
        "effect": null,
        "effect_questions": [
         {
          "q": "A few seconds following these changes, it is unlikely that the ball is rolling",
          "truth": true
         },
         {
          "q": "A few seconds following these changes, the ball will not begin to be rolling",
          "truth": true
         },
         {
          "q": "A few seconds following these changes, it is likely that the ball is moving",
          "truth": true
         },
         {
          "q": "A few seconds following these changes, the ball will begin to be rolling",
          "truth": false
         },
         {
          "q": "A few seconds following these changes, it is reasonable that the ball is moving",
          "truth": true
         }
        ],
        "scene": "In a simulation, there is a ball. It is placed in mid-air a bit above a staircase desending to the right.",
        "scene_questions": [
         {
          "q": "Across a fraction of a second, the ball will not begin to be rolling",
          "truth": true
         },
         {
          "q": "After a few seconds of time, it isimpossible that the ball is moving",
          "truth": false
         },
         {
          "q": "After a fraction of a second, it is unlikely that the ball is rolling",
          "truth": true
         },
         {
          "q": "After a fraction of a second, it isimpossible that the ball is moving",
          "truth": false
         },
         {
          "q": "Across a few seconds of time, the ball will not begin to be moving",
          "truth": false
         },
         {
          "q": "After a fraction of a second, it is imposible that the ball is rolling",
          "truth": true
         }
        ],
        "sim": "5532463",
        "start_time": 1638817648332,
        "total_questions": [
         {
          "q": "Overall, it is imposible that the ball is rolling",
          "truth": true
         },
         {
          "q": "Overall, it isimpossible that the ball is moving",
          "truth": false
         },
         {
          "q": "Overall, the ball will begin to be moving",
          "truth": true
         },
         {
          "q": "Overall, it is likely that the ball is moving",
          "truth": true
         },
         {
          "q": "Overall, the ball will begin to be rolling",
          "truth": false
         }
        ],
        "uploaded_time": "1638817771590"
       },
       {
        "answers": [
         {}
        ],
        "effect": null,
        "effect_questions": [
         {
          "q": "A few seconds following these changes, it is likely that the ball collided with the box",
          "truth": true
         },
         {
          "q": "A few seconds following these changes, it is certain that the ball is moving",
          "truth": false
         },
         {
          "q": "A few seconds following these changes, it isimposible that the ball collided with the box",
          "truth": false
         },
         {
          "q": "A few seconds following these changes, the ball will not begin to be moving",
          "truth": true
         }
        ],
        "scene": "In a simulation, there is a ball which is quite light. It is placed in a box.",
        "scene_questions": [
         {
          "q": "After a fraction of a seccond, it is imposible that the ball is moving",
          "truth": false
         },
         {
          "q": "After a fraction of a seccond, it is imposible that the ball is rolling",
          "truth": true
         },
         {
          "q": "After a few seconds of time, it is certain that the ball is rolling",
          "truth": false
         },
         {
          "q": "Across a fraction of a seccond, the ball will begin to be rolling",
          "truth": false
         },
         {
          "q": "After a few seconds of time, it is reasonable that the ball is moving",
          "truth": true
         }
        ],
        "sim": "772014",
        "start_time": 1638804866445,
        "total_questions": [
         {
          "q": "Overall, the ball will not begin to be rolling",
          "truth": true
         },
         {
          "q": "Overall, it is unlikely that the ball is rolling",
          "truth": true
         },
         {
          "q": "Overall, it isimposible that the ball collided with the box",
          "truth": false
         },
         {
          "q": "Overall, the ball will begin to collide with the box",
          "truth": true
         },
         {
          "q": "Overall, it is imposible that the ball collided with the box",
          "truth": false
         }
        ],
        "uploaded_time": "1638804956237"
       }
      ],
      "text/plain": [
       "<IPython.core.display.JSON object>"
      ]
     },
     "execution_count": 2,
     "metadata": {
      "application/json": {
       "expanded": false,
       "root": "root"
      }
     },
     "output_type": "execute_result"
    }
   ],
   "source": [
    "Answer_Data = None   \n",
    "\n",
    "with open(f'./Answers/1.json') as f:\n",
    "    Answer_Data = json.load(f)\n",
    "\n",
    "JSON(Answer_Data)"
   ]
  },
  {
   "cell_type": "code",
   "execution_count": 3,
   "id": "61aa2ba9-aa97-4573-8366-0e9063ba20bd",
   "metadata": {},
   "outputs": [
    {
     "data": {
      "text/html": [
       "<div>\n",
       "<style scoped>\n",
       "    .dataframe tbody tr th:only-of-type {\n",
       "        vertical-align: middle;\n",
       "    }\n",
       "\n",
       "    .dataframe tbody tr th {\n",
       "        vertical-align: top;\n",
       "    }\n",
       "\n",
       "    .dataframe thead th {\n",
       "        text-align: right;\n",
       "    }\n",
       "</style>\n",
       "<table border=\"1\" class=\"dataframe\">\n",
       "  <thead>\n",
       "    <tr style=\"text-align: right;\">\n",
       "      <th></th>\n",
       "      <th>scene</th>\n",
       "      <th>effect</th>\n",
       "      <th>simulation</th>\n",
       "      <th>question</th>\n",
       "      <th>truth</th>\n",
       "      <th>marked</th>\n",
       "    </tr>\n",
       "  </thead>\n",
       "  <tbody>\n",
       "    <tr>\n",
       "      <th>0</th>\n",
       "      <td>In a simulation, there is a ball. It is placed...</td>\n",
       "      <td>None</td>\n",
       "      <td>1458370</td>\n",
       "      <td>After a fraction of a seccond, it is imposible...</td>\n",
       "      <td>False</td>\n",
       "      <td>False</td>\n",
       "    </tr>\n",
       "    <tr>\n",
       "      <th>1</th>\n",
       "      <td>In a simulation, there is a ball. It is placed...</td>\n",
       "      <td>None</td>\n",
       "      <td>1458370</td>\n",
       "      <td>After a fraction of a seccond, it is certain t...</td>\n",
       "      <td>False</td>\n",
       "      <td>False</td>\n",
       "    </tr>\n",
       "    <tr>\n",
       "      <th>2</th>\n",
       "      <td>In a simulation, there is a ball. It is placed...</td>\n",
       "      <td>None</td>\n",
       "      <td>1458370</td>\n",
       "      <td>After a fraction of a seccond, it is likely th...</td>\n",
       "      <td>True</td>\n",
       "      <td>True</td>\n",
       "    </tr>\n",
       "    <tr>\n",
       "      <th>3</th>\n",
       "      <td>In a simulation, there is a ball. It is placed...</td>\n",
       "      <td>None</td>\n",
       "      <td>1458370</td>\n",
       "      <td>After a fraction of a seccond, it is certain t...</td>\n",
       "      <td>False</td>\n",
       "      <td>True</td>\n",
       "    </tr>\n",
       "    <tr>\n",
       "      <th>4</th>\n",
       "      <td>In a simulation, there is a ball. It is placed...</td>\n",
       "      <td>None</td>\n",
       "      <td>1458370</td>\n",
       "      <td>Across a fraction of a seccond, the ball will ...</td>\n",
       "      <td>False</td>\n",
       "      <td>True</td>\n",
       "    </tr>\n",
       "    <tr>\n",
       "      <th>...</th>\n",
       "      <td>...</td>\n",
       "      <td>...</td>\n",
       "      <td>...</td>\n",
       "      <td>...</td>\n",
       "      <td>...</td>\n",
       "      <td>...</td>\n",
       "    </tr>\n",
       "    <tr>\n",
       "      <th>415</th>\n",
       "      <td>In a simulation, there is a ball which is quit...</td>\n",
       "      <td>None</td>\n",
       "      <td>772014</td>\n",
       "      <td>After a fraction of a seccond, it is imposible...</td>\n",
       "      <td>False</td>\n",
       "      <td>False</td>\n",
       "    </tr>\n",
       "    <tr>\n",
       "      <th>416</th>\n",
       "      <td>In a simulation, there is a ball which is quit...</td>\n",
       "      <td>None</td>\n",
       "      <td>772014</td>\n",
       "      <td>After a fraction of a seccond, it is imposible...</td>\n",
       "      <td>True</td>\n",
       "      <td>False</td>\n",
       "    </tr>\n",
       "    <tr>\n",
       "      <th>417</th>\n",
       "      <td>In a simulation, there is a ball which is quit...</td>\n",
       "      <td>None</td>\n",
       "      <td>772014</td>\n",
       "      <td>After a few seconds of time, it is certain tha...</td>\n",
       "      <td>False</td>\n",
       "      <td>False</td>\n",
       "    </tr>\n",
       "    <tr>\n",
       "      <th>418</th>\n",
       "      <td>In a simulation, there is a ball which is quit...</td>\n",
       "      <td>None</td>\n",
       "      <td>772014</td>\n",
       "      <td>Across a fraction of a seccond, the ball will ...</td>\n",
       "      <td>False</td>\n",
       "      <td>False</td>\n",
       "    </tr>\n",
       "    <tr>\n",
       "      <th>419</th>\n",
       "      <td>In a simulation, there is a ball which is quit...</td>\n",
       "      <td>None</td>\n",
       "      <td>772014</td>\n",
       "      <td>After a few seconds of time, it is reasonable ...</td>\n",
       "      <td>True</td>\n",
       "      <td>False</td>\n",
       "    </tr>\n",
       "  </tbody>\n",
       "</table>\n",
       "<p>420 rows × 6 columns</p>\n",
       "</div>"
      ],
      "text/plain": [
       "                                                 scene effect simulation  \\\n",
       "0    In a simulation, there is a ball. It is placed...   None    1458370   \n",
       "1    In a simulation, there is a ball. It is placed...   None    1458370   \n",
       "2    In a simulation, there is a ball. It is placed...   None    1458370   \n",
       "3    In a simulation, there is a ball. It is placed...   None    1458370   \n",
       "4    In a simulation, there is a ball. It is placed...   None    1458370   \n",
       "..                                                 ...    ...        ...   \n",
       "415  In a simulation, there is a ball which is quit...   None     772014   \n",
       "416  In a simulation, there is a ball which is quit...   None     772014   \n",
       "417  In a simulation, there is a ball which is quit...   None     772014   \n",
       "418  In a simulation, there is a ball which is quit...   None     772014   \n",
       "419  In a simulation, there is a ball which is quit...   None     772014   \n",
       "\n",
       "                                              question  truth  marked  \n",
       "0    After a fraction of a seccond, it is imposible...  False   False  \n",
       "1    After a fraction of a seccond, it is certain t...  False   False  \n",
       "2    After a fraction of a seccond, it is likely th...   True    True  \n",
       "3    After a fraction of a seccond, it is certain t...  False    True  \n",
       "4    Across a fraction of a seccond, the ball will ...  False    True  \n",
       "..                                                 ...    ...     ...  \n",
       "415  After a fraction of a seccond, it is imposible...  False   False  \n",
       "416  After a fraction of a seccond, it is imposible...   True   False  \n",
       "417  After a few seconds of time, it is certain tha...  False   False  \n",
       "418  Across a fraction of a seccond, the ball will ...  False   False  \n",
       "419  After a few seconds of time, it is reasonable ...   True   False  \n",
       "\n",
       "[420 rows x 6 columns]"
      ]
     },
     "execution_count": 3,
     "metadata": {},
     "output_type": "execute_result"
    }
   ],
   "source": [
    "All_answers = []\n",
    "\n",
    "for scene in Answer_Data:\n",
    "    if not 'scene_questions' in scene: continue\n",
    "    lookups = [('scene_questions','scene'), ('effect_questions', 'effect'), ('total_questions', 'total')]\n",
    "    for key,label in lookups:\n",
    "        if label != 'scene' and scene['effect'] == None: continue\n",
    "        for i,q in enumerate(scene[key]):\n",
    "            All_answers.append({\n",
    "                \"scene\" : scene['scene'],\n",
    "                \"effect\": scene['effect'],\n",
    "                \"simulation\": scene['sim'],\n",
    "                \"question\" : q['q'],\n",
    "                \"truth\": q['truth'],\n",
    "                \"marked\": f\"{label}-{i}\" in scene['answers'][0]\n",
    "            })\n",
    "            \n",
    "            \n",
    "All_answers = pd.DataFrame(All_answers)\n",
    "All_answers"
   ]
  },
  {
   "cell_type": "code",
   "execution_count": 4,
   "id": "85699413-d502-458b-80a8-e53c679da7a5",
   "metadata": {},
   "outputs": [
    {
     "data": {
      "text/html": [
       "<div>\n",
       "<style scoped>\n",
       "    .dataframe tbody tr th:only-of-type {\n",
       "        vertical-align: middle;\n",
       "    }\n",
       "\n",
       "    .dataframe tbody tr th {\n",
       "        vertical-align: top;\n",
       "    }\n",
       "\n",
       "    .dataframe thead th {\n",
       "        text-align: right;\n",
       "    }\n",
       "</style>\n",
       "<table border=\"1\" class=\"dataframe\">\n",
       "  <thead>\n",
       "    <tr style=\"text-align: right;\">\n",
       "      <th></th>\n",
       "      <th>scene</th>\n",
       "      <th>effect</th>\n",
       "      <th>simulation</th>\n",
       "      <th>question</th>\n",
       "      <th>truth</th>\n",
       "      <th>marked</th>\n",
       "    </tr>\n",
       "  </thead>\n",
       "  <tbody>\n",
       "    <tr>\n",
       "      <th>0</th>\n",
       "      <td>In a simulation, there is a ball. It is placed...</td>\n",
       "      <td>None</td>\n",
       "      <td>1458370</td>\n",
       "      <td>After a fraction of a seccond, it is imposible...</td>\n",
       "      <td>False</td>\n",
       "      <td>False</td>\n",
       "    </tr>\n",
       "    <tr>\n",
       "      <th>1</th>\n",
       "      <td>In a simulation, there is a ball. It is placed...</td>\n",
       "      <td>None</td>\n",
       "      <td>1458370</td>\n",
       "      <td>After a fraction of a seccond, it is certain t...</td>\n",
       "      <td>False</td>\n",
       "      <td>False</td>\n",
       "    </tr>\n",
       "    <tr>\n",
       "      <th>2</th>\n",
       "      <td>In a simulation, there is a ball. It is placed...</td>\n",
       "      <td>None</td>\n",
       "      <td>1458370</td>\n",
       "      <td>After a fraction of a seccond, it is likely th...</td>\n",
       "      <td>True</td>\n",
       "      <td>True</td>\n",
       "    </tr>\n",
       "    <tr>\n",
       "      <th>9</th>\n",
       "      <td>In a simulation, there is a cube which is push...</td>\n",
       "      <td>After a little bit, the cube becomes quite heavy</td>\n",
       "      <td>7581701</td>\n",
       "      <td>After a few seconds of time, it is reasonable ...</td>\n",
       "      <td>True</td>\n",
       "      <td>True</td>\n",
       "    </tr>\n",
       "    <tr>\n",
       "      <th>10</th>\n",
       "      <td>In a simulation, there is a cube which is push...</td>\n",
       "      <td>After a little bit, the cube becomes quite heavy</td>\n",
       "      <td>7581701</td>\n",
       "      <td>Across a fraction of a second, the cube will b...</td>\n",
       "      <td>False</td>\n",
       "      <td>False</td>\n",
       "    </tr>\n",
       "    <tr>\n",
       "      <th>...</th>\n",
       "      <td>...</td>\n",
       "      <td>...</td>\n",
       "      <td>...</td>\n",
       "      <td>...</td>\n",
       "      <td>...</td>\n",
       "      <td>...</td>\n",
       "    </tr>\n",
       "    <tr>\n",
       "      <th>413</th>\n",
       "      <td>In a simulation, there is a ball. It is placed...</td>\n",
       "      <td>None</td>\n",
       "      <td>5532463</td>\n",
       "      <td>Across a few seconds of time, the ball will no...</td>\n",
       "      <td>False</td>\n",
       "      <td>False</td>\n",
       "    </tr>\n",
       "    <tr>\n",
       "      <th>414</th>\n",
       "      <td>In a simulation, there is a ball. It is placed...</td>\n",
       "      <td>None</td>\n",
       "      <td>5532463</td>\n",
       "      <td>After a fraction of a second, it is imposible ...</td>\n",
       "      <td>True</td>\n",
       "      <td>True</td>\n",
       "    </tr>\n",
       "    <tr>\n",
       "      <th>415</th>\n",
       "      <td>In a simulation, there is a ball which is quit...</td>\n",
       "      <td>None</td>\n",
       "      <td>772014</td>\n",
       "      <td>After a fraction of a seccond, it is imposible...</td>\n",
       "      <td>False</td>\n",
       "      <td>False</td>\n",
       "    </tr>\n",
       "    <tr>\n",
       "      <th>417</th>\n",
       "      <td>In a simulation, there is a ball which is quit...</td>\n",
       "      <td>None</td>\n",
       "      <td>772014</td>\n",
       "      <td>After a few seconds of time, it is certain tha...</td>\n",
       "      <td>False</td>\n",
       "      <td>False</td>\n",
       "    </tr>\n",
       "    <tr>\n",
       "      <th>418</th>\n",
       "      <td>In a simulation, there is a ball which is quit...</td>\n",
       "      <td>None</td>\n",
       "      <td>772014</td>\n",
       "      <td>Across a fraction of a seccond, the ball will ...</td>\n",
       "      <td>False</td>\n",
       "      <td>False</td>\n",
       "    </tr>\n",
       "  </tbody>\n",
       "</table>\n",
       "<p>279 rows × 6 columns</p>\n",
       "</div>"
      ],
      "text/plain": [
       "                                                 scene  \\\n",
       "0    In a simulation, there is a ball. It is placed...   \n",
       "1    In a simulation, there is a ball. It is placed...   \n",
       "2    In a simulation, there is a ball. It is placed...   \n",
       "9    In a simulation, there is a cube which is push...   \n",
       "10   In a simulation, there is a cube which is push...   \n",
       "..                                                 ...   \n",
       "413  In a simulation, there is a ball. It is placed...   \n",
       "414  In a simulation, there is a ball. It is placed...   \n",
       "415  In a simulation, there is a ball which is quit...   \n",
       "417  In a simulation, there is a ball which is quit...   \n",
       "418  In a simulation, there is a ball which is quit...   \n",
       "\n",
       "                                               effect simulation  \\\n",
       "0                                                None    1458370   \n",
       "1                                                None    1458370   \n",
       "2                                                None    1458370   \n",
       "9    After a little bit, the cube becomes quite heavy    7581701   \n",
       "10   After a little bit, the cube becomes quite heavy    7581701   \n",
       "..                                                ...        ...   \n",
       "413                                              None    5532463   \n",
       "414                                              None    5532463   \n",
       "415                                              None     772014   \n",
       "417                                              None     772014   \n",
       "418                                              None     772014   \n",
       "\n",
       "                                              question  truth  marked  \n",
       "0    After a fraction of a seccond, it is imposible...  False   False  \n",
       "1    After a fraction of a seccond, it is certain t...  False   False  \n",
       "2    After a fraction of a seccond, it is likely th...   True    True  \n",
       "9    After a few seconds of time, it is reasonable ...   True    True  \n",
       "10   Across a fraction of a second, the cube will b...  False   False  \n",
       "..                                                 ...    ...     ...  \n",
       "413  Across a few seconds of time, the ball will no...  False   False  \n",
       "414  After a fraction of a second, it is imposible ...   True    True  \n",
       "415  After a fraction of a seccond, it is imposible...  False   False  \n",
       "417  After a few seconds of time, it is certain tha...  False   False  \n",
       "418  Across a fraction of a seccond, the ball will ...  False   False  \n",
       "\n",
       "[279 rows x 6 columns]"
      ]
     },
     "execution_count": 4,
     "metadata": {},
     "output_type": "execute_result"
    }
   ],
   "source": [
    "All_answers[All_answers['truth'] == All_answers['marked']]"
   ]
  },
  {
   "cell_type": "code",
   "execution_count": 5,
   "id": "c486b9c8-be60-4e31-a615-d8939db2e6f5",
   "metadata": {},
   "outputs": [
    {
     "data": {
      "text/plain": [
       "<AxesSubplot:>"
      ]
     },
     "execution_count": 5,
     "metadata": {},
     "output_type": "execute_result"
    },
    {
     "data": {
      "image/png": "[encoded data removed]",
      "text/plain": [
       "<Figure size 432x288 with 2 Axes>"
      ]
     },
     "metadata": {
      "needs_background": "light"
     },
     "output_type": "display_data"
    }
   ],
   "source": [
    "confusion = confusion_matrix(All_answers['truth'].to_numpy(), All_answers['marked'].to_numpy())\n",
    "prct = confusion/np.sum(confusion)\n",
    "labels = [\n",
    "    f\"True Neg \\n\\n{round(prct[0,0],2)}\",\n",
    "    f\"False Pos \\n\\n{round(prct[0,1],2)}\",\n",
    "    f\"False Neg \\n\\n{round(prct[1,0],2)}\",\n",
    "    f\"True Pos  \\n\\n{round(prct[1,1],2)}\"]\n",
    "labels = np.asarray(labels).reshape(2,2)\n",
    "sns.heatmap(prct,fmt='', annot=labels, cmap='Blues')"
   ]
  },
  {
   "cell_type": "code",
   "execution_count": 6,
   "id": "aff361f6-cc47-497d-92db-9b0bcaccd064",
   "metadata": {},
   "outputs": [],
   "source": [
    "All_answers['length'] = All_answers['scene'].str.len() \n",
    "All_answers['correct'] = All_answers['truth'] == All_answers['marked']"
   ]
  },
  {
   "cell_type": "code",
   "execution_count": 12,
   "id": "a7e9b18e-b9a5-4cf1-9757-4309213e1b0d",
   "metadata": {},
   "outputs": [
    {
     "data": {
      "text/html": [
       "<div>\n",
       "<style scoped>\n",
       "    .dataframe tbody tr th:only-of-type {\n",
       "        vertical-align: middle;\n",
       "    }\n",
       "\n",
       "    .dataframe tbody tr th {\n",
       "        vertical-align: top;\n",
       "    }\n",
       "\n",
       "    .dataframe thead th {\n",
       "        text-align: right;\n",
       "    }\n",
       "</style>\n",
       "<table border=\"1\" class=\"dataframe\">\n",
       "  <thead>\n",
       "    <tr style=\"text-align: right;\">\n",
       "      <th></th>\n",
       "      <th>scene</th>\n",
       "      <th>effect</th>\n",
       "      <th>simulation</th>\n",
       "      <th>question</th>\n",
       "      <th>truth</th>\n",
       "      <th>marked</th>\n",
       "      <th>length</th>\n",
       "      <th>correct</th>\n",
       "    </tr>\n",
       "  </thead>\n",
       "  <tbody>\n",
       "    <tr>\n",
       "      <th>0</th>\n",
       "      <td>In a simulation, there is a ball. It is placed...</td>\n",
       "      <td>None</td>\n",
       "      <td>1458370</td>\n",
       "      <td>After a fraction of a seccond, it is imposible...</td>\n",
       "      <td>False</td>\n",
       "      <td>False</td>\n",
       "      <td>105</td>\n",
       "      <td>True</td>\n",
       "    </tr>\n",
       "    <tr>\n",
       "      <th>1</th>\n",
       "      <td>In a simulation, there is a ball. It is placed...</td>\n",
       "      <td>None</td>\n",
       "      <td>1458370</td>\n",
       "      <td>After a fraction of a seccond, it is certain t...</td>\n",
       "      <td>False</td>\n",
       "      <td>False</td>\n",
       "      <td>105</td>\n",
       "      <td>True</td>\n",
       "    </tr>\n",
       "    <tr>\n",
       "      <th>2</th>\n",
       "      <td>In a simulation, there is a ball. It is placed...</td>\n",
       "      <td>None</td>\n",
       "      <td>1458370</td>\n",
       "      <td>After a fraction of a seccond, it is likely th...</td>\n",
       "      <td>True</td>\n",
       "      <td>True</td>\n",
       "      <td>105</td>\n",
       "      <td>True</td>\n",
       "    </tr>\n",
       "    <tr>\n",
       "      <th>9</th>\n",
       "      <td>In a simulation, there is a cube which is push...</td>\n",
       "      <td>After a little bit, the cube becomes quite heavy</td>\n",
       "      <td>7581701</td>\n",
       "      <td>After a few seconds of time, it is reasonable ...</td>\n",
       "      <td>True</td>\n",
       "      <td>True</td>\n",
       "      <td>133</td>\n",
       "      <td>True</td>\n",
       "    </tr>\n",
       "    <tr>\n",
       "      <th>10</th>\n",
       "      <td>In a simulation, there is a cube which is push...</td>\n",
       "      <td>After a little bit, the cube becomes quite heavy</td>\n",
       "      <td>7581701</td>\n",
       "      <td>Across a fraction of a second, the cube will b...</td>\n",
       "      <td>False</td>\n",
       "      <td>False</td>\n",
       "      <td>133</td>\n",
       "      <td>True</td>\n",
       "    </tr>\n",
       "    <tr>\n",
       "      <th>...</th>\n",
       "      <td>...</td>\n",
       "      <td>...</td>\n",
       "      <td>...</td>\n",
       "      <td>...</td>\n",
       "      <td>...</td>\n",
       "      <td>...</td>\n",
       "      <td>...</td>\n",
       "      <td>...</td>\n",
       "    </tr>\n",
       "    <tr>\n",
       "      <th>413</th>\n",
       "      <td>In a simulation, there is a ball. It is placed...</td>\n",
       "      <td>None</td>\n",
       "      <td>5532463</td>\n",
       "      <td>Across a few seconds of time, the ball will no...</td>\n",
       "      <td>False</td>\n",
       "      <td>False</td>\n",
       "      <td>105</td>\n",
       "      <td>True</td>\n",
       "    </tr>\n",
       "    <tr>\n",
       "      <th>414</th>\n",
       "      <td>In a simulation, there is a ball. It is placed...</td>\n",
       "      <td>None</td>\n",
       "      <td>5532463</td>\n",
       "      <td>After a fraction of a second, it is imposible ...</td>\n",
       "      <td>True</td>\n",
       "      <td>True</td>\n",
       "      <td>105</td>\n",
       "      <td>True</td>\n",
       "    </tr>\n",
       "    <tr>\n",
       "      <th>415</th>\n",
       "      <td>In a simulation, there is a ball which is quit...</td>\n",
       "      <td>None</td>\n",
       "      <td>772014</td>\n",
       "      <td>After a fraction of a seccond, it is imposible...</td>\n",
       "      <td>False</td>\n",
       "      <td>False</td>\n",
       "      <td>77</td>\n",
       "      <td>True</td>\n",
       "    </tr>\n",
       "    <tr>\n",
       "      <th>417</th>\n",
       "      <td>In a simulation, there is a ball which is quit...</td>\n",
       "      <td>None</td>\n",
       "      <td>772014</td>\n",
       "      <td>After a few seconds of time, it is certain tha...</td>\n",
       "      <td>False</td>\n",
       "      <td>False</td>\n",
       "      <td>77</td>\n",
       "      <td>True</td>\n",
       "    </tr>\n",
       "    <tr>\n",
       "      <th>418</th>\n",
       "      <td>In a simulation, there is a ball which is quit...</td>\n",
       "      <td>None</td>\n",
       "      <td>772014</td>\n",
       "      <td>Across a fraction of a seccond, the ball will ...</td>\n",
       "      <td>False</td>\n",
       "      <td>False</td>\n",
       "      <td>77</td>\n",
       "      <td>True</td>\n",
       "    </tr>\n",
       "  </tbody>\n",
       "</table>\n",
       "<p>279 rows × 8 columns</p>\n",
       "</div>"
      ],
      "text/plain": [
       "                                                 scene  \\\n",
       "0    In a simulation, there is a ball. It is placed...   \n",
       "1    In a simulation, there is a ball. It is placed...   \n",
       "2    In a simulation, there is a ball. It is placed...   \n",
       "9    In a simulation, there is a cube which is push...   \n",
       "10   In a simulation, there is a cube which is push...   \n",
       "..                                                 ...   \n",
       "413  In a simulation, there is a ball. It is placed...   \n",
       "414  In a simulation, there is a ball. It is placed...   \n",
       "415  In a simulation, there is a ball which is quit...   \n",
       "417  In a simulation, there is a ball which is quit...   \n",
       "418  In a simulation, there is a ball which is quit...   \n",
       "\n",
       "                                               effect simulation  \\\n",
       "0                                                None    1458370   \n",
       "1                                                None    1458370   \n",
       "2                                                None    1458370   \n",
       "9    After a little bit, the cube becomes quite heavy    7581701   \n",
       "10   After a little bit, the cube becomes quite heavy    7581701   \n",
       "..                                                ...        ...   \n",
       "413                                              None    5532463   \n",
       "414                                              None    5532463   \n",
       "415                                              None     772014   \n",
       "417                                              None     772014   \n",
       "418                                              None     772014   \n",
       "\n",
       "                                              question  truth  marked  length  \\\n",
       "0    After a fraction of a seccond, it is imposible...  False   False     105   \n",
       "1    After a fraction of a seccond, it is certain t...  False   False     105   \n",
       "2    After a fraction of a seccond, it is likely th...   True    True     105   \n",
       "9    After a few seconds of time, it is reasonable ...   True    True     133   \n",
       "10   Across a fraction of a second, the cube will b...  False   False     133   \n",
       "..                                                 ...    ...     ...     ...   \n",
       "413  Across a few seconds of time, the ball will no...  False   False     105   \n",
       "414  After a fraction of a second, it is imposible ...   True    True     105   \n",
       "415  After a fraction of a seccond, it is imposible...  False   False      77   \n",
       "417  After a few seconds of time, it is certain tha...  False   False      77   \n",
       "418  Across a fraction of a seccond, the ball will ...  False   False      77   \n",
       "\n",
       "     correct  \n",
       "0       True  \n",
       "1       True  \n",
       "2       True  \n",
       "9       True  \n",
       "10      True  \n",
       "..       ...  \n",
       "413     True  \n",
       "414     True  \n",
       "415     True  \n",
       "417     True  \n",
       "418     True  \n",
       "\n",
       "[279 rows x 8 columns]"
      ]
     },
     "execution_count": 12,
     "metadata": {},
     "output_type": "execute_result"
    }
   ],
   "source": [
    "agreeable_answers = All_answers[All_answers['correct']]\n",
    "agreeable_answers"
   ]
  },
  {
   "cell_type": "code",
   "execution_count": 13,
   "id": "699ad498-56bb-4de1-ad4f-1dc18a3bddc1",
   "metadata": {},
   "outputs": [],
   "source": [
    "agreeable_answers.to_csv('./best_data.csv')"
   ]
  },
  {
   "cell_type": "code",
   "execution_count": 7,
   "id": "7ec9ad70-d50b-4a62-9d2f-ca22ba73124e",
   "metadata": {},
   "outputs": [
    {
     "data": {
      "text/plain": [
       "(0.0, 1.1)"
      ]
     },
     "execution_count": 7,
     "metadata": {},
     "output_type": "execute_result"
    },
    {
     "data": {
      "image/png": "[encoded data removed]",
      "text/plain": [
       "<Figure size 432x288 with 1 Axes>"
      ]
     },
     "metadata": {
      "needs_background": "light"
     },
     "output_type": "display_data"
    }
   ],
   "source": [
    "correct_percent = All_answers.groupby('scene').mean()\n",
    "plt.scatter(correct_percent['length'], correct_percent['correct'])\n",
    "plt.ylim((0,1.1))"
   ]
  },
  {
   "cell_type": "code",
   "execution_count": 8,
   "id": "ff695a55-9257-4ecf-bbab-03a828975254",
   "metadata": {},
   "outputs": [],
   "source": [
    "premium_rows = correct_percent[correct_percent['correct']>0.7]"
   ]
  },
  {
   "cell_type": "code",
   "execution_count": 9,
   "id": "096c32b2-865c-44bd-b891-037712c31530",
   "metadata": {},
   "outputs": [
    {
     "data": {
      "text/html": [
       "<div>\n",
       "<style scoped>\n",
       "    .dataframe tbody tr th:only-of-type {\n",
       "        vertical-align: middle;\n",
       "    }\n",
       "\n",
       "    .dataframe tbody tr th {\n",
       "        vertical-align: top;\n",
       "    }\n",
       "\n",
       "    .dataframe thead th {\n",
       "        text-align: right;\n",
       "    }\n",
       "</style>\n",
       "<table border=\"1\" class=\"dataframe\">\n",
       "  <thead>\n",
       "    <tr style=\"text-align: right;\">\n",
       "      <th></th>\n",
       "      <th>scene</th>\n",
       "      <th>effect</th>\n",
       "      <th>simulation</th>\n",
       "      <th>question</th>\n",
       "      <th>truth_</th>\n",
       "      <th>marked_</th>\n",
       "      <th>length_</th>\n",
       "      <th>correct_</th>\n",
       "      <th>truth_</th>\n",
       "      <th>marked_</th>\n",
       "      <th>length_</th>\n",
       "      <th>correct_</th>\n",
       "    </tr>\n",
       "  </thead>\n",
       "  <tbody>\n",
       "    <tr>\n",
       "      <th>22</th>\n",
       "      <td>In a simulation, there is a cube (cube0), anot...</td>\n",
       "      <td>None</td>\n",
       "      <td>6674898</td>\n",
       "      <td>After a few seconds of time, it is imposible t...</td>\n",
       "      <td>False</td>\n",
       "      <td>False</td>\n",
       "      <td>224</td>\n",
       "      <td>True</td>\n",
       "      <td>0.666667</td>\n",
       "      <td>0.500000</td>\n",
       "      <td>224</td>\n",
       "      <td>0.833333</td>\n",
       "    </tr>\n",
       "    <tr>\n",
       "      <th>23</th>\n",
       "      <td>In a simulation, there is a cube (cube0), anot...</td>\n",
       "      <td>None</td>\n",
       "      <td>6674898</td>\n",
       "      <td>After a fraction of a seccond, it is reasonabl...</td>\n",
       "      <td>True</td>\n",
       "      <td>True</td>\n",
       "      <td>224</td>\n",
       "      <td>True</td>\n",
       "      <td>0.666667</td>\n",
       "      <td>0.500000</td>\n",
       "      <td>224</td>\n",
       "      <td>0.833333</td>\n",
       "    </tr>\n",
       "    <tr>\n",
       "      <th>24</th>\n",
       "      <td>In a simulation, there is a cube (cube0), anot...</td>\n",
       "      <td>None</td>\n",
       "      <td>6674898</td>\n",
       "      <td>Across a fraction of a seccond, cube0 will not...</td>\n",
       "      <td>True</td>\n",
       "      <td>True</td>\n",
       "      <td>224</td>\n",
       "      <td>True</td>\n",
       "      <td>0.666667</td>\n",
       "      <td>0.500000</td>\n",
       "      <td>224</td>\n",
       "      <td>0.833333</td>\n",
       "    </tr>\n",
       "    <tr>\n",
       "      <th>25</th>\n",
       "      <td>In a simulation, there is a cube (cube0), anot...</td>\n",
       "      <td>None</td>\n",
       "      <td>6674898</td>\n",
       "      <td>After a few seconds of time, it is unlikely th...</td>\n",
       "      <td>True</td>\n",
       "      <td>False</td>\n",
       "      <td>224</td>\n",
       "      <td>False</td>\n",
       "      <td>0.666667</td>\n",
       "      <td>0.500000</td>\n",
       "      <td>224</td>\n",
       "      <td>0.833333</td>\n",
       "    </tr>\n",
       "    <tr>\n",
       "      <th>26</th>\n",
       "      <td>In a simulation, there is a cube (cube0), anot...</td>\n",
       "      <td>None</td>\n",
       "      <td>6674898</td>\n",
       "      <td>After a fraction of a seccond, it is unlikely ...</td>\n",
       "      <td>True</td>\n",
       "      <td>True</td>\n",
       "      <td>224</td>\n",
       "      <td>True</td>\n",
       "      <td>0.666667</td>\n",
       "      <td>0.500000</td>\n",
       "      <td>224</td>\n",
       "      <td>0.833333</td>\n",
       "    </tr>\n",
       "    <tr>\n",
       "      <th>...</th>\n",
       "      <td>...</td>\n",
       "      <td>...</td>\n",
       "      <td>...</td>\n",
       "      <td>...</td>\n",
       "      <td>...</td>\n",
       "      <td>...</td>\n",
       "      <td>...</td>\n",
       "      <td>...</td>\n",
       "      <td>...</td>\n",
       "      <td>...</td>\n",
       "      <td>...</td>\n",
       "      <td>...</td>\n",
       "    </tr>\n",
       "    <tr>\n",
       "      <th>404</th>\n",
       "      <td>In a simulation, there is a cube, a ball (ball...</td>\n",
       "      <td>None</td>\n",
       "      <td>5033113</td>\n",
       "      <td>Across a fraction of a seccond, ball1 will beg...</td>\n",
       "      <td>False</td>\n",
       "      <td>False</td>\n",
       "      <td>208</td>\n",
       "      <td>True</td>\n",
       "      <td>0.333333</td>\n",
       "      <td>0.333333</td>\n",
       "      <td>208</td>\n",
       "      <td>1.000000</td>\n",
       "    </tr>\n",
       "    <tr>\n",
       "      <th>405</th>\n",
       "      <td>In a simulation, there is a cube, a ball (ball...</td>\n",
       "      <td>None</td>\n",
       "      <td>5033113</td>\n",
       "      <td>Across a fraction of a seccond, the cube will ...</td>\n",
       "      <td>False</td>\n",
       "      <td>False</td>\n",
       "      <td>208</td>\n",
       "      <td>True</td>\n",
       "      <td>0.333333</td>\n",
       "      <td>0.333333</td>\n",
       "      <td>208</td>\n",
       "      <td>1.000000</td>\n",
       "    </tr>\n",
       "    <tr>\n",
       "      <th>406</th>\n",
       "      <td>In a simulation, there is a cube, a ball (ball...</td>\n",
       "      <td>None</td>\n",
       "      <td>5033113</td>\n",
       "      <td>Across a fraction of a seccond, ball1 will beg...</td>\n",
       "      <td>False</td>\n",
       "      <td>False</td>\n",
       "      <td>208</td>\n",
       "      <td>True</td>\n",
       "      <td>0.333333</td>\n",
       "      <td>0.333333</td>\n",
       "      <td>208</td>\n",
       "      <td>1.000000</td>\n",
       "    </tr>\n",
       "    <tr>\n",
       "      <th>407</th>\n",
       "      <td>In a simulation, there is a cube, a ball (ball...</td>\n",
       "      <td>None</td>\n",
       "      <td>5033113</td>\n",
       "      <td>Across a fraction of a seccond, ball1 will beg...</td>\n",
       "      <td>False</td>\n",
       "      <td>False</td>\n",
       "      <td>208</td>\n",
       "      <td>True</td>\n",
       "      <td>0.333333</td>\n",
       "      <td>0.333333</td>\n",
       "      <td>208</td>\n",
       "      <td>1.000000</td>\n",
       "    </tr>\n",
       "    <tr>\n",
       "      <th>408</th>\n",
       "      <td>In a simulation, there is a cube, a ball (ball...</td>\n",
       "      <td>None</td>\n",
       "      <td>5033113</td>\n",
       "      <td>After a fraction of a seccond, it is imposible...</td>\n",
       "      <td>True</td>\n",
       "      <td>True</td>\n",
       "      <td>208</td>\n",
       "      <td>True</td>\n",
       "      <td>0.333333</td>\n",
       "      <td>0.333333</td>\n",
       "      <td>208</td>\n",
       "      <td>1.000000</td>\n",
       "    </tr>\n",
       "  </tbody>\n",
       "</table>\n",
       "<p>150 rows × 12 columns</p>\n",
       "</div>"
      ],
      "text/plain": [
       "                                                 scene effect simulation  \\\n",
       "22   In a simulation, there is a cube (cube0), anot...   None    6674898   \n",
       "23   In a simulation, there is a cube (cube0), anot...   None    6674898   \n",
       "24   In a simulation, there is a cube (cube0), anot...   None    6674898   \n",
       "25   In a simulation, there is a cube (cube0), anot...   None    6674898   \n",
       "26   In a simulation, there is a cube (cube0), anot...   None    6674898   \n",
       "..                                                 ...    ...        ...   \n",
       "404  In a simulation, there is a cube, a ball (ball...   None    5033113   \n",
       "405  In a simulation, there is a cube, a ball (ball...   None    5033113   \n",
       "406  In a simulation, there is a cube, a ball (ball...   None    5033113   \n",
       "407  In a simulation, there is a cube, a ball (ball...   None    5033113   \n",
       "408  In a simulation, there is a cube, a ball (ball...   None    5033113   \n",
       "\n",
       "                                              question  truth_  marked_  \\\n",
       "22   After a few seconds of time, it is imposible t...   False    False   \n",
       "23   After a fraction of a seccond, it is reasonabl...    True     True   \n",
       "24   Across a fraction of a seccond, cube0 will not...    True     True   \n",
       "25   After a few seconds of time, it is unlikely th...    True    False   \n",
       "26   After a fraction of a seccond, it is unlikely ...    True     True   \n",
       "..                                                 ...     ...      ...   \n",
       "404  Across a fraction of a seccond, ball1 will beg...   False    False   \n",
       "405  Across a fraction of a seccond, the cube will ...   False    False   \n",
       "406  Across a fraction of a seccond, ball1 will beg...   False    False   \n",
       "407  Across a fraction of a seccond, ball1 will beg...   False    False   \n",
       "408  After a fraction of a seccond, it is imposible...    True     True   \n",
       "\n",
       "     length_  correct_    truth_   marked_  length_  correct_  \n",
       "22       224      True  0.666667  0.500000      224  0.833333  \n",
       "23       224      True  0.666667  0.500000      224  0.833333  \n",
       "24       224      True  0.666667  0.500000      224  0.833333  \n",
       "25       224     False  0.666667  0.500000      224  0.833333  \n",
       "26       224      True  0.666667  0.500000      224  0.833333  \n",
       "..       ...       ...       ...       ...      ...       ...  \n",
       "404      208      True  0.333333  0.333333      208  1.000000  \n",
       "405      208      True  0.333333  0.333333      208  1.000000  \n",
       "406      208      True  0.333333  0.333333      208  1.000000  \n",
       "407      208      True  0.333333  0.333333      208  1.000000  \n",
       "408      208      True  0.333333  0.333333      208  1.000000  \n",
       "\n",
       "[150 rows x 12 columns]"
      ]
     },
     "execution_count": 11,
     "metadata": {},
     "output_type": "execute_result"
    }
   ],
   "source": [
    "Premium_set = All_answers.join(premium_rows, how='inner', on='scene', lsuffix='_', rsuffix='_')\n",
    "Premium_set"
   ]
  },
  {
   "cell_type": "code",
   "execution_count": null,
   "id": "671f5bc9-7641-402b-9428-3ae934b51e7a",
   "metadata": {},
   "outputs": [],
   "source": []
  },
  {
   "cell_type": "code",
   "execution_count": null,
   "id": "86904b7f-baa8-4d58-be2a-2992b341464e",
   "metadata": {},
   "outputs": [],
   "source": []
  }
 ],
 "metadata": {
  "kernelspec": {
   "display_name": "Python 3.8.5 64-bit ('.env': venv)",
   "language": "python",
   "name": "python38564bitenvvenvddb0749b7e75427eb71aa71617e9ca3d"
  },
  "language_info": {
   "codemirror_mode": {
    "name": "ipython",
    "version": 3
   },
   "file_extension": ".py",
   "mimetype": "text/x-python",
   "name": "python",
   "nbconvert_exporter": "python",
   "pygments_lexer": "ipython3",
   "version": "3.8.10"
  }
 },
 "nbformat": 4,
 "nbformat_minor": 5
}
