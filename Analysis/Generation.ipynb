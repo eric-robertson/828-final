{
 "cells": [
  {
   "cell_type": "code",
   "execution_count": 1,
   "id": "d53055a2-15e1-4feb-bfb5-ed005ebfd81f",
   "metadata": {},
   "outputs": [],
   "source": [
    "# Imports\n",
    "import os, json, random\n",
    "import numpy as np\n",
    "from IPython.display import JSON\n",
    "import datetime as dt\n",
    "import matplotlib.pyplot as plt\n",
    "import matplotlib.dates as mdates\n",
    "from matplotlib.collections import PolyCollection"
   ]
  },
  {
   "cell_type": "code",
   "execution_count": 2,
   "id": "dddbd8b8-6738-442b-b420-7421b29191a2",
   "metadata": {},
   "outputs": [
    {
     "data": {
      "text/plain": [
       "3471"
      ]
     },
     "execution_count": 2,
     "metadata": {},
     "output_type": "execute_result"
    }
   ],
   "source": [
    "# Assume the save files are in './Saves'\n",
    "Raw_Saves = os.listdir('./Saves')\n",
    "\n",
    "# How many do we have?\n",
    "len(Raw_Saves)"
   ]
  },
  {
   "cell_type": "code",
   "execution_count": 3,
   "id": "83db469c-0375-4725-8605-3a1747fa6381",
   "metadata": {},
   "outputs": [
    {
     "name": "stdout",
     "output_type": "stream",
     "text": [
      "Removed malformed 3340168\n",
      "Removed malformed 34501\n",
      "Left with 346 simulations with 10 variations each\n"
     ]
    }
   ],
   "source": [
    "# Some saves may be partialy formed (Simulation stops partway or I turned it off)\n",
    "# Lets remove them\n",
    "\n",
    "_counts = {}\n",
    "Runs_by_SimID = {}\n",
    "\n",
    "for file in Raw_Saves:\n",
    "    _sim_id = file.split('_')[0]\n",
    "    _run_id = file.split('_')[1].split('.')[0]\n",
    "    \n",
    "    if _sim_id in _counts:\n",
    "        _counts[_sim_id] += 1\n",
    "        Runs_by_SimID[_sim_id].append(_run_id)\n",
    "    else:\n",
    "        _counts[_sim_id] = 1\n",
    "        Runs_by_SimID[_sim_id] = [_run_id]\n",
    "        \n",
    "for _ in list(_counts.keys()):\n",
    "    if _counts[_] != 10:\n",
    "        del _counts[_]\n",
    "        print('Removed malformed', _)\n",
    "        \n",
    "Simulation_Ids = list(_counts.keys())\n",
    "print('Left with', len(Simulation_Ids), 'simulations with 10 variations each')"
   ]
  },
  {
   "cell_type": "code",
   "execution_count": 4,
   "id": "f8744836-b722-40aa-8801-987cfb038b2b",
   "metadata": {},
   "outputs": [],
   "source": [
    "# Utlity\n",
    "def Choose_Random_Sim ():\n",
    "    return random.choice(Simulation_Ids)\n",
    "\n",
    "def Choose_Random_Run ( sim = None ):\n",
    "    if sim == None:\n",
    "        return Choose_Random_Run( sim = Choose_Random_Sim() )\n",
    "    return sim, random.choice(Runs_by_SimID[sim])"
   ]
  },
  {
   "cell_type": "code",
   "execution_count": 5,
   "id": "4f2e55fb-184e-4fb3-83ba-37bfff5a34ee",
   "metadata": {},
   "outputs": [
    {
     "data": {
      "text/plain": [
       "('6958408', '4215184')"
      ]
     },
     "execution_count": 5,
     "metadata": {},
     "output_type": "execute_result"
    }
   ],
   "source": [
    "# Choose random sim and run id for demo\n",
    "# These IDS are not sequential, rather they are purely random\n",
    "Choose_Random_Run()"
   ]
  },
  {
   "cell_type": "code",
   "execution_count": 6,
   "id": "cd0556db-0b93-4617-8dcc-39e12c3e491b",
   "metadata": {},
   "outputs": [],
   "source": [
    "# Populate the data from files\n",
    "\n",
    "def Extract_Run_Data ( sim, run ):   \n",
    "    with open(f'./Saves/{sim}_{run}.json') as f:\n",
    "        return json.load(f)\n",
    "    \n",
    "def Extract_Sim_data (sim):\n",
    "    result = {}\n",
    "    for _run in Runs_by_SimID[sim]:\n",
    "        load = Extract_Run_Data( sim, _run )\n",
    "        if 'items' in result:\n",
    "            result['results'].append(load['results'])\n",
    "        else:\n",
    "            result['items'] = load['items']\n",
    "            result['positions'] = load['positions']\n",
    "            result['attributes'] = load['attributes']\n",
    "            result['delayedEffects'] = load['delayedEffects']\n",
    "            result['results'] = [load['results']]\n",
    "    return result"
   ]
  },
  {
   "cell_type": "code",
   "execution_count": 7,
   "id": "08ea2f41-8785-4e7f-a327-ffac20132543",
   "metadata": {},
   "outputs": [
    {
     "data": {
      "application/json": {
       "attributes": [
        {
         "attribute": "gravity",
         "targetObject": "cube0",
         "value": "high"
        }
       ],
       "delayedEffects": [],
       "items": [
        {
         "label": "cube0",
         "type": "cube"
        },
        {
         "label": "platform",
         "type": "platform"
        }
       ],
       "positions": [
        {
         "relatedObject": "platform",
         "relationTo": "above",
         "targetObject": "cube0"
        }
       ],
       "results": [
        [
         {
          "eventDetails": "rolling",
          "newValue": false,
          "relatedObject": "",
          "simulationTime": 0,
          "sourceObject": "cube0"
         },
         {
          "eventDetails": "moving",
          "newValue": false,
          "relatedObject": "",
          "simulationTime": 0,
          "sourceObject": "cube0"
         },
         {
          "eventDetails": "left of",
          "newValue": false,
          "relatedObject": "platform",
          "simulationTime": 0,
          "sourceObject": "cube0"
         },
         {
          "eventDetails": "right of",
          "newValue": false,
          "relatedObject": "platform",
          "simulationTime": 0,
          "sourceObject": "cube0"
         },
         {
          "eventDetails": "above",
          "newValue": false,
          "relatedObject": "platform",
          "simulationTime": 0,
          "sourceObject": "cube0"
         },
         {
          "eventDetails": "below",
          "newValue": false,
          "relatedObject": "platform",
          "simulationTime": 0,
          "sourceObject": "cube0"
         },
         {
          "eventDetails": "moving",
          "newValue": true,
          "relatedObject": "",
          "simulationTime": 0.02001953125,
          "sourceObject": "cube0"
         },
         {
          "eventDetails": "below",
          "newValue": true,
          "relatedObject": "platform",
          "simulationTime": 0.46002197265625,
          "sourceObject": "cube0"
         },
         {
          "eventDetails": "collide",
          "newValue": true,
          "relatedObject": "platform",
          "simulationTime": 0.540008544921875,
          "sourceObject": "cube0"
         },
         {
          "eventDetails": "rolling",
          "newValue": true,
          "relatedObject": "",
          "simulationTime": 0.540008544921875,
          "sourceObject": "cube0"
         },
         {
          "eventDetails": "rolling",
          "newValue": false,
          "relatedObject": "",
          "simulationTime": 0.680023193359375,
          "sourceObject": "cube0"
         },
         {
          "eventDetails": "moving",
          "newValue": false,
          "relatedObject": "",
          "simulationTime": 0.779998779296875,
          "sourceObject": "cube0"
         }
        ],
        [
         {
          "eventDetails": "rolling",
          "newValue": false,
          "relatedObject": "",
          "simulationTime": 0.02001953125,
          "sourceObject": "cube0"
         },
         {
          "eventDetails": "moving",
          "newValue": true,
          "relatedObject": "",
          "simulationTime": 0.02001953125,
          "sourceObject": "cube0"
         },
         {
          "eventDetails": "left of",
          "newValue": false,
          "relatedObject": "platform",
          "simulationTime": 0.02001953125,
          "sourceObject": "cube0"
         },
         {
          "eventDetails": "right of",
          "newValue": false,
          "relatedObject": "platform",
          "simulationTime": 0.02001953125,
          "sourceObject": "cube0"
         },
         {
          "eventDetails": "above",
          "newValue": false,
          "relatedObject": "platform",
          "simulationTime": 0.02001953125,
          "sourceObject": "cube0"
         },
         {
          "eventDetails": "below",
          "newValue": false,
          "relatedObject": "platform",
          "simulationTime": 0.02001953125,
          "sourceObject": "cube0"
         },
         {
          "eventDetails": "below",
          "newValue": true,
          "relatedObject": "platform",
          "simulationTime": 0.46002197265625,
          "sourceObject": "cube0"
         },
         {
          "eventDetails": "collide",
          "newValue": true,
          "relatedObject": "platform",
          "simulationTime": 0.540008544921875,
          "sourceObject": "cube0"
         },
         {
          "eventDetails": "rolling",
          "newValue": true,
          "relatedObject": "",
          "simulationTime": 0.540008544921875,
          "sourceObject": "cube0"
         },
         {
          "eventDetails": "rolling",
          "newValue": false,
          "relatedObject": "",
          "simulationTime": 0.720001220703125,
          "sourceObject": "cube0"
         },
         {
          "eventDetails": "moving",
          "newValue": false,
          "relatedObject": "",
          "simulationTime": 0.839996337890625,
          "sourceObject": "cube0"
         }
        ],
        [
         {
          "eventDetails": "rolling",
          "newValue": false,
          "relatedObject": "",
          "simulationTime": 0.019989013671875,
          "sourceObject": "cube0"
         },
         {
          "eventDetails": "moving",
          "newValue": true,
          "relatedObject": "",
          "simulationTime": 0.019989013671875,
          "sourceObject": "cube0"
         },
         {
          "eventDetails": "left of",
          "newValue": false,
          "relatedObject": "platform",
          "simulationTime": 0.019989013671875,
          "sourceObject": "cube0"
         },
         {
          "eventDetails": "right of",
          "newValue": false,
          "relatedObject": "platform",
          "simulationTime": 0.019989013671875,
          "sourceObject": "cube0"
         },
         {
          "eventDetails": "above",
          "newValue": true,
          "relatedObject": "platform",
          "simulationTime": 0.019989013671875,
          "sourceObject": "cube0"
         },
         {
          "eventDetails": "below",
          "newValue": false,
          "relatedObject": "platform",
          "simulationTime": 0.019989013671875,
          "sourceObject": "cube0"
         },
         {
          "eventDetails": "above",
          "newValue": false,
          "relatedObject": "platform",
          "simulationTime": 0.139984130859375,
          "sourceObject": "cube0"
         },
         {
          "eventDetails": "below",
          "newValue": true,
          "relatedObject": "platform",
          "simulationTime": 0.399993896484375,
          "sourceObject": "cube0"
         },
         {
          "eventDetails": "collide",
          "newValue": true,
          "relatedObject": "platform",
          "simulationTime": 0.459991455078125,
          "sourceObject": "cube0"
         },
         {
          "eventDetails": "rolling",
          "newValue": true,
          "relatedObject": "",
          "simulationTime": 0.459991455078125,
          "sourceObject": "cube0"
         },
         {
          "eventDetails": "collide",
          "newValue": false,
          "relatedObject": "platform",
          "simulationTime": 0.720001220703125,
          "sourceObject": "cube0"
         },
         {
          "eventDetails": "collide",
          "newValue": true,
          "relatedObject": "platform",
          "simulationTime": 0.739990234375,
          "sourceObject": "cube0"
         },
         {
          "eventDetails": "collide",
          "newValue": false,
          "relatedObject": "platform",
          "simulationTime": 0.839996337890625,
          "sourceObject": "cube0"
         },
         {
          "eventDetails": "collide",
          "newValue": true,
          "relatedObject": "platform",
          "simulationTime": 0.8599853515625,
          "sourceObject": "cube0"
         },
         {
          "eventDetails": "rolling",
          "newValue": false,
          "relatedObject": "",
          "simulationTime": 0.8599853515625,
          "sourceObject": "cube0"
         },
         {
          "eventDetails": "moving",
          "newValue": false,
          "relatedObject": "",
          "simulationTime": 0.94000244140625,
          "sourceObject": "cube0"
         }
        ],
        [
         {
          "eventDetails": "rolling",
          "newValue": false,
          "relatedObject": "",
          "simulationTime": 0.019989013671875,
          "sourceObject": "cube0"
         },
         {
          "eventDetails": "moving",
          "newValue": true,
          "relatedObject": "",
          "simulationTime": 0.019989013671875,
          "sourceObject": "cube0"
         },
         {
          "eventDetails": "left of",
          "newValue": false,
          "relatedObject": "platform",
          "simulationTime": 0.019989013671875,
          "sourceObject": "cube0"
         },
         {
          "eventDetails": "right of",
          "newValue": false,
          "relatedObject": "platform",
          "simulationTime": 0.019989013671875,
          "sourceObject": "cube0"
         },
         {
          "eventDetails": "above",
          "newValue": true,
          "relatedObject": "platform",
          "simulationTime": 0.019989013671875,
          "sourceObject": "cube0"
         },
         {
          "eventDetails": "below",
          "newValue": false,
          "relatedObject": "platform",
          "simulationTime": 0.019989013671875,
          "sourceObject": "cube0"
         },
         {
          "eventDetails": "above",
          "newValue": false,
          "relatedObject": "platform",
          "simulationTime": 0.100006103515625,
          "sourceObject": "cube0"
         },
         {
          "eventDetails": "below",
          "newValue": true,
          "relatedObject": "platform",
          "simulationTime": 0.480010986328125,
          "sourceObject": "cube0"
         },
         {
          "eventDetails": "collide",
          "newValue": true,
          "relatedObject": "platform",
          "simulationTime": 0.540008544921875,
          "sourceObject": "cube0"
         },
         {
          "eventDetails": "rolling",
          "newValue": true,
          "relatedObject": "",
          "simulationTime": 0.540008544921875,
          "sourceObject": "cube0"
         },
         {
          "eventDetails": "rolling",
          "newValue": false,
          "relatedObject": "",
          "simulationTime": 0.959991455078125,
          "sourceObject": "cube0"
         },
         {
          "eventDetails": "moving",
          "newValue": false,
          "relatedObject": "",
          "simulationTime": 1.019989013671875,
          "sourceObject": "cube0"
         }
        ],
        [
         {
          "eventDetails": "rolling",
          "newValue": false,
          "relatedObject": "",
          "simulationTime": 0,
          "sourceObject": "cube0"
         },
         {
          "eventDetails": "moving",
          "newValue": false,
          "relatedObject": "",
          "simulationTime": 0,
          "sourceObject": "cube0"
         },
         {
          "eventDetails": "left of",
          "newValue": false,
          "relatedObject": "platform",
          "simulationTime": 0,
          "sourceObject": "cube0"
         },
         {
          "eventDetails": "right of",
          "newValue": false,
          "relatedObject": "platform",
          "simulationTime": 0,
          "sourceObject": "cube0"
         },
         {
          "eventDetails": "above",
          "newValue": true,
          "relatedObject": "platform",
          "simulationTime": 0,
          "sourceObject": "cube0"
         },
         {
          "eventDetails": "below",
          "newValue": false,
          "relatedObject": "platform",
          "simulationTime": 0,
          "sourceObject": "cube0"
         },
         {
          "eventDetails": "moving",
          "newValue": true,
          "relatedObject": "",
          "simulationTime": 0.02001953125,
          "sourceObject": "cube0"
         },
         {
          "eventDetails": "above",
          "newValue": false,
          "relatedObject": "platform",
          "simulationTime": 0.260009765625,
          "sourceObject": "cube0"
         },
         {
          "eventDetails": "below",
          "newValue": true,
          "relatedObject": "platform",
          "simulationTime": 0.6199951171875,
          "sourceObject": "cube0"
         },
         {
          "eventDetails": "collide",
          "newValue": true,
          "relatedObject": "platform",
          "simulationTime": 0.70001220703125,
          "sourceObject": "cube0"
         },
         {
          "eventDetails": "moving",
          "newValue": false,
          "relatedObject": "",
          "simulationTime": 0.70001220703125,
          "sourceObject": "cube0"
         }
        ],
        [
         {
          "eventDetails": "rolling",
          "newValue": false,
          "relatedObject": "",
          "simulationTime": 0.019989013671875,
          "sourceObject": "cube0"
         },
         {
          "eventDetails": "moving",
          "newValue": true,
          "relatedObject": "",
          "simulationTime": 0.019989013671875,
          "sourceObject": "cube0"
         },
         {
          "eventDetails": "left of",
          "newValue": false,
          "relatedObject": "platform",
          "simulationTime": 0.019989013671875,
          "sourceObject": "cube0"
         },
         {
          "eventDetails": "right of",
          "newValue": false,
          "relatedObject": "platform",
          "simulationTime": 0.019989013671875,
          "sourceObject": "cube0"
         },
         {
          "eventDetails": "above",
          "newValue": false,
          "relatedObject": "platform",
          "simulationTime": 0.019989013671875,
          "sourceObject": "cube0"
         },
         {
          "eventDetails": "below",
          "newValue": false,
          "relatedObject": "platform",
          "simulationTime": 0.019989013671875,
          "sourceObject": "cube0"
         },
         {
          "eventDetails": "below",
          "newValue": true,
          "relatedObject": "platform",
          "simulationTime": 0.420013427734375,
          "sourceObject": "cube0"
         },
         {
          "eventDetails": "collide",
          "newValue": true,
          "relatedObject": "platform",
          "simulationTime": 0.480010986328125,
          "sourceObject": "cube0"
         },
         {
          "eventDetails": "rolling",
          "newValue": true,
          "relatedObject": "",
          "simulationTime": 0.480010986328125,
          "sourceObject": "cube0"
         },
         {
          "eventDetails": "rolling",
          "newValue": false,
          "relatedObject": "",
          "simulationTime": 0.55999755859375,
          "sourceObject": "cube0"
         },
         {
          "eventDetails": "moving",
          "newValue": false,
          "relatedObject": "",
          "simulationTime": 0.739990234375,
          "sourceObject": "cube0"
         }
        ],
        [
         {
          "eventDetails": "rolling",
          "newValue": false,
          "relatedObject": "",
          "simulationTime": 0,
          "sourceObject": "cube0"
         },
         {
          "eventDetails": "moving",
          "newValue": false,
          "relatedObject": "",
          "simulationTime": 0,
          "sourceObject": "cube0"
         },
         {
          "eventDetails": "left of",
          "newValue": false,
          "relatedObject": "platform",
          "simulationTime": 0,
          "sourceObject": "cube0"
         },
         {
          "eventDetails": "right of",
          "newValue": false,
          "relatedObject": "platform",
          "simulationTime": 0,
          "sourceObject": "cube0"
         },
         {
          "eventDetails": "above",
          "newValue": false,
          "relatedObject": "platform",
          "simulationTime": 0,
          "sourceObject": "cube0"
         },
         {
          "eventDetails": "below",
          "newValue": false,
          "relatedObject": "platform",
          "simulationTime": 0,
          "sourceObject": "cube0"
         },
         {
          "eventDetails": "moving",
          "newValue": true,
          "relatedObject": "",
          "simulationTime": 0.019989013671875,
          "sourceObject": "cube0"
         },
         {
          "eventDetails": "below",
          "newValue": true,
          "relatedObject": "platform",
          "simulationTime": 0.519989013671875,
          "sourceObject": "cube0"
         },
         {
          "eventDetails": "collide",
          "newValue": true,
          "relatedObject": "platform",
          "simulationTime": 0.600006103515625,
          "sourceObject": "cube0"
         },
         {
          "eventDetails": "rolling",
          "newValue": true,
          "relatedObject": "",
          "simulationTime": 0.600006103515625,
          "sourceObject": "cube0"
         },
         {
          "eventDetails": "rolling",
          "newValue": false,
          "relatedObject": "",
          "simulationTime": 0.739990234375,
          "sourceObject": "cube0"
         },
         {
          "eventDetails": "moving",
          "newValue": false,
          "relatedObject": "",
          "simulationTime": 0.899993896484375,
          "sourceObject": "cube0"
         }
        ],
        [
         {
          "eventDetails": "rolling",
          "newValue": false,
          "relatedObject": "",
          "simulationTime": 0,
          "sourceObject": "cube0"
         },
         {
          "eventDetails": "moving",
          "newValue": false,
          "relatedObject": "",
          "simulationTime": 0,
          "sourceObject": "cube0"
         },
         {
          "eventDetails": "left of",
          "newValue": false,
          "relatedObject": "platform",
          "simulationTime": 0,
          "sourceObject": "cube0"
         },
         {
          "eventDetails": "right of",
          "newValue": false,
          "relatedObject": "platform",
          "simulationTime": 0,
          "sourceObject": "cube0"
         },
         {
          "eventDetails": "above",
          "newValue": false,
          "relatedObject": "platform",
          "simulationTime": 0,
          "sourceObject": "cube0"
         },
         {
          "eventDetails": "below",
          "newValue": false,
          "relatedObject": "platform",
          "simulationTime": 0,
          "sourceObject": "cube0"
         },
         {
          "eventDetails": "moving",
          "newValue": true,
          "relatedObject": "",
          "simulationTime": 0.0200042724609375,
          "sourceObject": "cube0"
         },
         {
          "eventDetails": "below",
          "newValue": true,
          "relatedObject": "platform",
          "simulationTime": 0.44000244140625,
          "sourceObject": "cube0"
         },
         {
          "eventDetails": "collide",
          "newValue": true,
          "relatedObject": "platform",
          "simulationTime": 0.5,
          "sourceObject": "cube0"
         },
         {
          "eventDetails": "rolling",
          "newValue": true,
          "relatedObject": "",
          "simulationTime": 0.5,
          "sourceObject": "cube0"
         },
         {
          "eventDetails": "rolling",
          "newValue": false,
          "relatedObject": "",
          "simulationTime": 0.5800018310546875,
          "sourceObject": "cube0"
         },
         {
          "eventDetails": "moving",
          "newValue": false,
          "relatedObject": "",
          "simulationTime": 0.779998779296875,
          "sourceObject": "cube0"
         }
        ],
        [
         {
          "eventDetails": "rolling",
          "newValue": false,
          "relatedObject": "",
          "simulationTime": 0.0200042724609375,
          "sourceObject": "cube0"
         },
         {
          "eventDetails": "moving",
          "newValue": true,
          "relatedObject": "",
          "simulationTime": 0.0200042724609375,
          "sourceObject": "cube0"
         },
         {
          "eventDetails": "left of",
          "newValue": false,
          "relatedObject": "platform",
          "simulationTime": 0.0200042724609375,
          "sourceObject": "cube0"
         },
         {
          "eventDetails": "right of",
          "newValue": false,
          "relatedObject": "platform",
          "simulationTime": 0.0200042724609375,
          "sourceObject": "cube0"
         },
         {
          "eventDetails": "above",
          "newValue": false,
          "relatedObject": "platform",
          "simulationTime": 0.0200042724609375,
          "sourceObject": "cube0"
         },
         {
          "eventDetails": "below",
          "newValue": false,
          "relatedObject": "platform",
          "simulationTime": 0.0200042724609375,
          "sourceObject": "cube0"
         },
         {
          "eventDetails": "below",
          "newValue": true,
          "relatedObject": "platform",
          "simulationTime": 0.4600067138671875,
          "sourceObject": "cube0"
         },
         {
          "eventDetails": "collide",
          "newValue": true,
          "relatedObject": "platform",
          "simulationTime": 0.5200042724609375,
          "sourceObject": "cube0"
         },
         {
          "eventDetails": "rolling",
          "newValue": true,
          "relatedObject": "",
          "simulationTime": 0.5200042724609375,
          "sourceObject": "cube0"
         },
         {
          "eventDetails": "collide",
          "newValue": false,
          "relatedObject": "platform",
          "simulationTime": 0.6399993896484375,
          "sourceObject": "cube0"
         },
         {
          "eventDetails": "collide",
          "newValue": true,
          "relatedObject": "platform",
          "simulationTime": 0.660003662109375,
          "sourceObject": "cube0"
         },
         {
          "eventDetails": "rolling",
          "newValue": false,
          "relatedObject": "",
          "simulationTime": 0.660003662109375,
          "sourceObject": "cube0"
         },
         {
          "eventDetails": "moving",
          "newValue": false,
          "relatedObject": "",
          "simulationTime": 0.8000030517578125,
          "sourceObject": "cube0"
         }
        ],
        [
         {
          "eventDetails": "rolling",
          "newValue": false,
          "relatedObject": "",
          "simulationTime": 0,
          "sourceObject": "cube0"
         },
         {
          "eventDetails": "moving",
          "newValue": false,
          "relatedObject": "",
          "simulationTime": 0,
          "sourceObject": "cube0"
         },
         {
          "eventDetails": "left of",
          "newValue": false,
          "relatedObject": "platform",
          "simulationTime": 0,
          "sourceObject": "cube0"
         },
         {
          "eventDetails": "right of",
          "newValue": false,
          "relatedObject": "platform",
          "simulationTime": 0,
          "sourceObject": "cube0"
         },
         {
          "eventDetails": "above",
          "newValue": true,
          "relatedObject": "platform",
          "simulationTime": 0,
          "sourceObject": "cube0"
         },
         {
          "eventDetails": "below",
          "newValue": false,
          "relatedObject": "platform",
          "simulationTime": 0,
          "sourceObject": "cube0"
         },
         {
          "eventDetails": "moving",
          "newValue": true,
          "relatedObject": "",
          "simulationTime": 0.02001953125,
          "sourceObject": "cube0"
         },
         {
          "eventDetails": "above",
          "newValue": false,
          "relatedObject": "platform",
          "simulationTime": 0.160003662109375,
          "sourceObject": "cube0"
         },
         {
          "eventDetails": "below",
          "newValue": true,
          "relatedObject": "platform",
          "simulationTime": 0.4000244140625,
          "sourceObject": "cube0"
         },
         {
          "eventDetails": "collide",
          "newValue": true,
          "relatedObject": "platform",
          "simulationTime": 0.46002197265625,
          "sourceObject": "cube0"
         },
         {
          "eventDetails": "rolling",
          "newValue": true,
          "relatedObject": "",
          "simulationTime": 0.46002197265625,
          "sourceObject": "cube0"
         },
         {
          "eventDetails": "rolling",
          "newValue": false,
          "relatedObject": "",
          "simulationTime": 0.52001953125,
          "sourceObject": "cube0"
         },
         {
          "eventDetails": "moving",
          "newValue": false,
          "relatedObject": "",
          "simulationTime": 0.6199951171875,
          "sourceObject": "cube0"
         }
        ]
       ]
      },
      "text/plain": [
       "<IPython.core.display.JSON object>"
      ]
     },
     "execution_count": 7,
     "metadata": {
      "application/json": {
       "expanded": false,
       "root": "root"
      }
     },
     "output_type": "execute_result"
    }
   ],
   "source": [
    "extracted_data = Extract_Sim_data( \"6587074\" )\n",
    "JSON( extracted_data )"
   ]
  },
  {
   "cell_type": "code",
   "execution_count": 8,
   "id": "199a7125-011b-4ef8-984c-b40f4bfc520d",
   "metadata": {},
   "outputs": [],
   "source": [
    "# Extract all events from data\n",
    "\n",
    "def Encode_event ( event ):\n",
    "    return (event['sourceObject'],event['eventDetails'],event['relatedObject'])\n",
    "\n",
    "def Extract_run_events ( run_result ):\n",
    "    all_events = set()\n",
    "    for event in run_result:\n",
    "        event_info = Encode_event(event)\n",
    "        all_events.add( event_info )\n",
    "    return all_events\n",
    "\n",
    "def Extract_all_events ( sim_extracted ):\n",
    "    runs = sim_extracted['results']\n",
    "    total = set()\n",
    "    for run in runs:\n",
    "        total = total.union(Extract_run_events(run))\n",
    "    return list(total)"
   ]
  },
  {
   "cell_type": "code",
   "execution_count": 9,
   "id": "10ba79f0-baa1-45b1-ba8c-77ba7b44876b",
   "metadata": {},
   "outputs": [
    {
     "name": "stdout",
     "output_type": "stream",
     "text": [
      "There are 7 events in total here are 10:\n"
     ]
    },
    {
     "data": {
      "text/plain": [
       "[('cube0', 'rolling', ''),\n",
       " ('cube0', 'left of', 'platform'),\n",
       " ('cube0', 'collide', 'platform'),\n",
       " ('cube0', 'moving', ''),\n",
       " ('cube0', 'below', 'platform'),\n",
       " ('cube0', 'right of', 'platform'),\n",
       " ('cube0', 'above', 'platform')]"
      ]
     },
     "execution_count": 9,
     "metadata": {},
     "output_type": "execute_result"
    }
   ],
   "source": [
    "# All the events that ocurred across all variants of a given simulation\n",
    "all_events = Extract_all_events( extracted_data )\n",
    "\n",
    "print('There are', len(all_events), 'events in total here are 10:')\n",
    "all_events[:10]"
   ]
  },
  {
   "cell_type": "code",
   "execution_count": 10,
   "id": "3da0fc1a-4f63-48d2-8c47-4764544bddab",
   "metadata": {},
   "outputs": [],
   "source": [
    "# Extract a single event over time withing a simulation run\n",
    "\n",
    "def Random_event ( events ):\n",
    "    return random.choice(events)\n",
    "\n",
    "def Random_run ( data ):\n",
    "    return random.choice(data['results'])\n",
    "\n",
    "def Extract_event_timeline ( target_event, run_results ):\n",
    "        \n",
    "    states = []\n",
    "    last_state_bool = True\n",
    "        \n",
    "    for event in run_results:\n",
    "        _encoded = Encode_event(event)\n",
    "        if target_event == _encoded:\n",
    "            _time = event['simulationTime']\n",
    "            _val = event['newValue']\n",
    "            \n",
    "            states.append((_time,_val))\n",
    "                \n",
    "    return states"
   ]
  },
  {
   "cell_type": "code",
   "execution_count": 11,
   "id": "84b62609-12c2-4841-967d-121d3a091caf",
   "metadata": {},
   "outputs": [
    {
     "data": {
      "text/plain": [
       "[(0.0200042724609375, False)]"
      ]
     },
     "execution_count": 11,
     "metadata": {},
     "output_type": "execute_result"
    }
   ],
   "source": [
    "# Take a single event and track it through a run\n",
    "\n",
    "Extract_event_timeline(\n",
    "    Random_event( all_events ),\n",
    "    Random_run( extracted_data )\n",
    ")"
   ]
  },
  {
   "cell_type": "code",
   "execution_count": 12,
   "id": "570b7753-f028-4773-b78f-8d2e2ac36759",
   "metadata": {},
   "outputs": [],
   "source": [
    "#Charts a timeline for a given set of intervals\n",
    "\n",
    "\n",
    "def Generate_timeline_chart ( intervals, label = \"\" ) :\n",
    "    \n",
    "    verts = []\n",
    "    colors = []\n",
    "    _max = 8\n",
    "    buffer = 0.4\n",
    "    \n",
    "    for i,t in enumerate(intervals):\n",
    "        \n",
    "        last_label = None\n",
    "        last_time = 0\n",
    "        \n",
    "        for e in t:\n",
    "            if e[0] != 0:\n",
    "                verts.append([\n",
    "                    (last_time, i-0.4),\n",
    "                    (last_time, i+0.4),\n",
    "                    (e[0], i+0.4),\n",
    "                    (e[0], i-0.4),\n",
    "                    (last_time, i-0.4)\n",
    "                ])\n",
    "                colors.append('green' if last_label else 'red')\n",
    "            last_time = e[0]\n",
    "            last_label = e[1]\n",
    "        \n",
    "    for i,t in enumerate(intervals):\n",
    "        _last_item = None\n",
    "        if (len(t)) == 0:\n",
    "            _last_item = (0,False)\n",
    "        else:\n",
    "            _last_item = t[-1]\n",
    "        verts.append([\n",
    "            (_last_item[0], i-0.4),\n",
    "            (_last_item[0], i+0.4),\n",
    "            (_max+1, i+0.4),\n",
    "            (_max+1, i-0.4),\n",
    "            (_last_item[0], i-0.4)\n",
    "        ])\n",
    "        colors.append('green' if _last_item[1] else 'red')\n",
    "    \n",
    "    bars = PolyCollection(verts, facecolors=colors)\n",
    "\n",
    "    fig, ax = plt.subplots(figsize=(15,len(intervals)/2))\n",
    "    ax.add_collection(bars)\n",
    "\n",
    "    ts = list(range(len(intervals)))\n",
    "    ax.set_yticks(ts)\n",
    "    ax.set_yticklabels(ts)\n",
    "    plt.xlim(0,_max+1)\n",
    "    plt.ylim(-1,len(intervals))\n",
    "    plt.title(label)\n",
    "    plt.show()\n"
   ]
  },
  {
   "cell_type": "code",
   "execution_count": 13,
   "id": "b46f81a9-1393-4b1a-917d-6c0868d64d64",
   "metadata": {},
   "outputs": [
    {
     "data": {
      "image/png": "[encoded data removed]",
      "text/plain": [
       "<Figure size 1080x72 with 1 Axes>"
      ]
     },
     "metadata": {
      "needs_background": "light"
     },
     "output_type": "display_data"
    }
   ],
   "source": [
    "Generate_timeline_chart([\n",
    "    [(0,True), (1,False)], \n",
    "    [(0,False), (2,True)]\n",
    "], label=\"demo\")"
   ]
  },
  {
   "cell_type": "code",
   "execution_count": 14,
   "id": "ad559af3-8904-48a5-bdb4-2828113644af",
   "metadata": {},
   "outputs": [],
   "source": [
    "# Graph out that event timeline across all runs in a simulation\n",
    "\n",
    "def Query_event_timelines (event, data):\n",
    "    return [\n",
    "        Extract_event_timeline( event, run )\n",
    "        for run in data['results']\n",
    "    ]\n",
    "\n",
    "def Visualize_event_timeline ( event, data ):\n",
    "    # Get all timelines and chart them for a specific event\n",
    "    timelines = Query_event_timelines( event, data)\n",
    "    Generate_timeline_chart( timelines, f\"{event}\")"
   ]
  },
  {
   "cell_type": "code",
   "execution_count": 35,
   "id": "45f0a071-6cb4-46c3-aa1e-8de3c636d486",
   "metadata": {},
   "outputs": [
    {
     "data": {
      "image/png": "[encoded data removed]",
      "text/plain": [
       "<Figure size 1080x360 with 1 Axes>"
      ]
     },
     "metadata": {
      "needs_background": "light"
     },
     "output_type": "display_data"
    }
   ],
   "source": [
    "Visualize_event_timeline(\n",
    "    Random_event( all_events ),\n",
    "    extracted_data\n",
    ")"
   ]
  },
  {
   "cell_type": "code",
   "execution_count": 16,
   "id": "ff04bd01-f5f9-41c7-8c88-902235779e00",
   "metadata": {},
   "outputs": [],
   "source": [
    "# Extract usefull generalizations from interval graphs\n",
    "\n",
    "def Extract_single_timeline_range (timeline, start, stop ):\n",
    "\n",
    "    total_true = 0\n",
    "    total_swaps = 0\n",
    "    began = False\n",
    "    sample_ends = [False,False]\n",
    "    \n",
    "    for i,e in enumerate(timeline):\n",
    "        \n",
    "        if timeline[i][0] > start and timeline[i][0] < stop:\n",
    "            total_swaps += 1\n",
    "        \n",
    "        if i == 0: continue\n",
    "        if e[0] < start: continue\n",
    "        \n",
    "        _begin = timeline[i-1][0]\n",
    "        _end = timeline[i][0]\n",
    "        _truth = timeline[i-1][1]\n",
    "        \n",
    "        if _begin > stop:\n",
    "            sample_ends[1] = _truth\n",
    "            break\n",
    "        \n",
    "        if _begin <= start and _end > start:\n",
    "            _begin = start\n",
    "            sample_ends[0] = _truth\n",
    "            \n",
    "        if _begin < stop and _end >= stop:\n",
    "            _end = stop\n",
    "            sample_ends[1] = _truth\n",
    "            \n",
    "        if ( _truth ):\n",
    "            total_true += _end - _begin\n",
    "            \n",
    "        if _end >= stop: break\n",
    "        \n",
    "    if len(timeline) > 0:\n",
    "        if timeline[-1][0] < stop and timeline[-1][1]:\n",
    "            sample_ends[1] = timeline[-1][1]\n",
    "            total_true += stop - timeline[-1][0]\n",
    "        \n",
    "    if (sample_ends[0] is True) and (sample_ends[1] is False):\n",
    "        total_swaps = -total_swaps\n",
    "    if sample_ends[0] == sample_ends[1]:\n",
    "        total_swaps = 0\n",
    "        \n",
    "    percent_true = total_true / (stop - start)\n",
    "    return [percent_true, total_swaps]"
   ]
  },
  {
   "cell_type": "code",
   "execution_count": 17,
   "id": "8a04f07a-b608-4636-a57d-acee6307454b",
   "metadata": {},
   "outputs": [
    {
     "data": {
      "text/plain": [
       "[1.0, 0]"
      ]
     },
     "execution_count": 17,
     "metadata": {},
     "output_type": "execute_result"
    }
   ],
   "source": [
    "# Determines Percent Uptime & Total Swaps of timeline range\n",
    "Extract_single_timeline_range(\n",
    "    [(0, False), (1, True), (2, False), (3, True)],\n",
    "    1,2\n",
    ")"
   ]
  },
  {
   "cell_type": "code",
   "execution_count": 18,
   "id": "8a21e99f-9300-4b1c-8ec2-c8df1a1ed123",
   "metadata": {},
   "outputs": [],
   "source": [
    "def Extract_event_timeline_range ( timelines, start, stop ):\n",
    "\n",
    "    results = []\n",
    "    \n",
    "    for t in timelines:\n",
    "        results.append(Extract_single_timeline_range(t,start,stop) )\n",
    "    \n",
    "    return np.stack(results)"
   ]
  },
  {
   "cell_type": "code",
   "execution_count": 19,
   "id": "35d5de36-f4fa-48f8-91cc-33c6cf9ac628",
   "metadata": {},
   "outputs": [
    {
     "data": {
      "image/png": "[encoded data removed]",
      "text/plain": [
       "<Figure size 1080x360 with 1 Axes>"
      ]
     },
     "metadata": {
      "needs_background": "light"
     },
     "output_type": "display_data"
    },
    {
     "data": {
      "text/plain": [
       "array([[0.84827292, 1.        ],\n",
       "       [0.84827292, 1.        ],\n",
       "       [0.86207949, 5.        ],\n",
       "       [0.84827292, 1.        ],\n",
       "       [0.79309924, 1.        ],\n",
       "       [0.86896173, 1.        ],\n",
       "       [0.8275841 , 1.        ],\n",
       "       [0.86206897, 1.        ],\n",
       "       [0.84827292, 3.        ],\n",
       "       [0.87585449, 1.        ]])"
      ]
     },
     "execution_count": 19,
     "metadata": {},
     "output_type": "execute_result"
    }
   ],
   "source": [
    "# Comparison of data extracted vs graphs\n",
    "\n",
    "_event = Random_event( all_events )\n",
    "\n",
    "# Extract as chart\n",
    "Visualize_event_timeline(\n",
    "    _event,\n",
    "    extracted_data\n",
    ")\n",
    "    \n",
    "# Extract as data\n",
    "Extract_event_timeline_range(\n",
    "    Query_event_timelines(\n",
    "        _event,\n",
    "        extracted_data\n",
    "    ), 0.1, 3\n",
    ")"
   ]
  },
  {
   "cell_type": "code",
   "execution_count": 20,
   "id": "d852111a-1217-4a2a-8fd0-713133d2e438",
   "metadata": {},
   "outputs": [],
   "source": [
    "# Generation of statements from extracted data\n",
    "\n",
    "def Generate_statements_from_table ( table ):\n",
    "    \n",
    "    active_time = table[:,0]\n",
    "    toggles = table[:,1]\n",
    "    \n",
    "    # It is [ STATEMENT ] that event x will happen\n",
    "    truthy_statements = []\n",
    "    \n",
    "    # Object x [ STATEMENT ] from X' to X''\n",
    "    toggle_statements = []\n",
    "    \n",
    "    # Certain and Impossible\n",
    "    \n",
    "    if np.all(active_time==1):\n",
    "        truthy_statements.append('certain')\n",
    "    if np.all(active_time==0):\n",
    "        truthy_statements.append('imposible')\n",
    "        \n",
    "    # Likelyness\n",
    "    \n",
    "    if active_time.mean() > 0.8:\n",
    "        truthy_statements.append('likely')\n",
    "    if active_time.mean() > 0.4:\n",
    "        truthy_statements.append('reasonable')\n",
    "    if active_time.mean() < 0.1:\n",
    "        truthy_statements.append('unlikely')\n",
    "        \n",
    "        \n",
    "    if active_time.max() == 1 and active_time.min() == 0:\n",
    "        truthy_statements = []\n",
    "\n",
    "    # Toggle Conditions\n",
    "        \n",
    "    if np.all(toggles >= 1):\n",
    "        toggle_statements.append('will begin to')\n",
    "    if np.all(toggles == 0) and active_time.mean() == 0:\n",
    "        toggle_statements.append('will not begin to')\n",
    "    if toggles.mean() >= 2:\n",
    "        toggle_statements.append('may repeatedly')\n",
    "    if np.all(toggles < 0):\n",
    "        toggle_statements.append('will begin stoped')\n",
    "      \n",
    "    return truthy_statements, toggle_statements\n",
    "\n",
    "def Generate_statements_from_event ( timelines ):\n",
    "    \n",
    "    _immeditely = Extract_event_timeline_range(timelines,0.05,0.3)\n",
    "    _beginning = Extract_event_timeline_range(timelines,0,3)\n",
    "    _after_effects = Extract_event_timeline_range(timelines,3.05,4)\n",
    "    _total = Extract_event_timeline_range(timelines,0,8)\n",
    "    \n",
    "    return {\n",
    "        'After a fraction of a second' : \n",
    "            Generate_statements_from_table(_immeditely),\n",
    "        'After a few seconds of time' : \n",
    "            Generate_statements_from_table(_beginning),\n",
    "        'A few seconds following these changes' : \n",
    "            Generate_statements_from_table(_after_effects),\n",
    "        'Overall' : \n",
    "            Generate_statements_from_table(_total)\n",
    "    }"
   ]
  },
  {
   "cell_type": "code",
   "execution_count": 21,
   "id": "3205811d-5b65-443b-9a7a-f3c8fd624da7",
   "metadata": {},
   "outputs": [
    {
     "data": {
      "image/png": "[encoded data removed]",
      "text/plain": [
       "<Figure size 1080x360 with 1 Axes>"
      ]
     },
     "metadata": {
      "needs_background": "light"
     },
     "output_type": "display_data"
    },
    {
     "data": {
      "text/plain": [
       "{'After a fraction of a second': (['imposible', 'unlikely'],\n",
       "  ['will not begin to']),\n",
       " 'After a few seconds of time': (['likely', 'reasonable'], ['will begin to']),\n",
       " 'A few seconds following these changes': (['likely', 'reasonable'], []),\n",
       " 'Overall': (['likely', 'reasonable'], ['will begin to'])}"
      ]
     },
     "execution_count": 21,
     "metadata": {},
     "output_type": "execute_result"
    }
   ],
   "source": [
    "# Now chart and get a basic description using adjectives\n",
    "\n",
    "_event = Random_event( all_events )\n",
    "\n",
    "Visualize_event_timeline(\n",
    "    _event,\n",
    "    extracted_data\n",
    ")\n",
    "    \n",
    "Generate_statements_from_event(\n",
    "    Query_event_timelines(\n",
    "        _event,\n",
    "        extracted_data\n",
    "    )\n",
    ")"
   ]
  },
  {
   "cell_type": "code",
   "execution_count": 22,
   "id": "1ae83da7-cd39-439a-8b37-f9d963117b5b",
   "metadata": {},
   "outputs": [],
   "source": [
    "# Generate a description of the scene with text\n",
    "\n",
    "def Generate_counts ( scene ):\n",
    "    counts = {}\n",
    "    labels = {}\n",
    "    for row in scene['items']:\n",
    "        t = row['type']\n",
    "        if t in counts:\n",
    "            counts[t] += 1\n",
    "        else:\n",
    "            counts[t] = 1\n",
    "    for row in scene['items']:\n",
    "        t = row['type']\n",
    "        if counts[t] == 1:\n",
    "            labels[row['label']] = 'the ' + t\n",
    "        else:\n",
    "            labels[row['label']] = row['label']\n",
    "    return counts, labels\n",
    "\n",
    "def JoinList (items):\n",
    "    \n",
    "    t = \"\"\n",
    "    \n",
    "    for i,item in enumerate(items):\n",
    "        t += item\n",
    "        if i == len(items)-2:\n",
    "            t += ', and '  \n",
    "        elif i == len(items)-1:\n",
    "            break\n",
    "        else:\n",
    "            t += ', '\n",
    "            \n",
    "    return t\n",
    "\n",
    "def Describe_object_attirbutes (row, tense): \n",
    "    \n",
    "    t = [['has','is'],['gains','becomes']]\n",
    "    attributes = []\n",
    "    a = row['attribute']\n",
    "    v = row['value']\n",
    "\n",
    "    if a == 'bouncy':\n",
    "        attributes.append(t[tense][1] +' very bouncy')\n",
    "    if a == 'icy':\n",
    "        attributes.append('is very slipery')\n",
    "    if a == 'friction':\n",
    "        attributes.append(t[tense][0] +' a good amount of friction')\n",
    "\n",
    "    if a == 'size' and v == 'small':\n",
    "        attributes.append(t[tense][1] +' rather small')\n",
    "    if a == 'size' and v == 'big':\n",
    "        attributes.append(t[tense][1] +' rather big')\n",
    "    if a == 'mass' and v == 'low':\n",
    "        attributes.append(t[tense][1] +' quite light')\n",
    "    if a == 'mass' and v == 'high':\n",
    "        attributes.append(t[tense][1] +' quite heavy')\n",
    "\n",
    "    if a == 'gravity' and v == 'low':\n",
    "        attributes.append('experiences very little gravity')\n",
    "    if a == 'gravity' and v == 'high':\n",
    "        attributes.append('experiences extreme gravity')\n",
    "    if a == 'gravity' and v == 'none':\n",
    "        attributes.append('does not experience gravity')\n",
    "    if a == 'gravity' and v == 'reversed':\n",
    "        attributes.append('experiences reversed gravity')\n",
    "\n",
    "    if a == 'pushed left':\n",
    "        attributes.append('is pushed left')\n",
    "    if a == 'pushed right':\n",
    "        attributes.append('is pushed right')\n",
    "    if a == 'pushed down':\n",
    "        attributes.append('is pushed down')\n",
    "    if a == 'pushed up':\n",
    "        attributes.append('is pushed up')\n",
    "        \n",
    "    if a == 'removed':\n",
    "        attributes.append('disapears')\n",
    "        \n",
    "    if len(attributes) == 0: return None    \n",
    "    \n",
    "    return attributes[0]\n",
    "\n",
    "def Describe_properties (o, scene):\n",
    "    \n",
    "    attributes = []\n",
    "    \n",
    "    for row in scene['attributes']:\n",
    "        if row['targetObject'] == o:\n",
    "            _a = Describe_object_attirbutes(row,0)\n",
    "            if _a is not None:\n",
    "                attributes.append(_a)\n",
    "        \n",
    "    return JoinList(attributes)\n",
    "            \n",
    "def Describe_objects (scene, counts):\n",
    "    \n",
    "    ordinal = ['a', 'another', 'a third', 'a fourth']\n",
    "    running_counts = {}\n",
    "    scene_objects = []\n",
    "    \n",
    "    valid_items = []    \n",
    "    for i,row in enumerate(scene['items']):\n",
    "        if row['type'] in ['cube','ball']:\n",
    "            valid_items.append(row)\n",
    "    \n",
    "    for i,row in enumerate(valid_items):\n",
    "        \n",
    "        t = row['type']\n",
    "        l = row['label']\n",
    "        \n",
    "        if t in running_counts:\n",
    "            running_counts[t] += 1\n",
    "        else:\n",
    "            running_counts[t] = 1\n",
    "            \n",
    "        prefix = ordinal[running_counts[t]-1]   \n",
    "        \n",
    "        text = f\"{prefix} {t}\"\n",
    "        if counts[t] > 1:\n",
    "            text += f\" ({l})\"\n",
    "            \n",
    "        described = Describe_properties(l, scene)\n",
    "        if len(described) != 0:\n",
    "            text += ' which ' + described\n",
    "            \n",
    "        scene_objects.append(text)\n",
    "            \n",
    "    return JoinList( scene_objects ) + '.'\n",
    "\n",
    "\n",
    "def Describe_placement (scene, labels):\n",
    "    positions = []\n",
    "    \n",
    "    prefix = \"They are\" if len(scene['positions']) != 1 else \"It is\"\n",
    "    \n",
    "    prefix = f\"{prefix} placed {scene['positions'][0]['relationTo']} a {scene['positions'][0]['relatedObject']}\"    \n",
    "    \n",
    "    for p in scene['positions'][1:]:\n",
    "        \n",
    "        o = p['targetObject']\n",
    "        r = p['relationTo']\n",
    "        o2 = p['relatedObject']\n",
    "        \n",
    "        text = f\"{labels[o]} {r} of {labels[o2]}\"\n",
    "        positions.append(text)\n",
    "        \n",
    "    if len(scene['positions'][1:]) == 0:\n",
    "        return prefix + '.'\n",
    "    else:\n",
    "        return prefix + ', ' + JoinList( positions ) + '.'\n",
    "\n",
    "def Desctibe_effects (scene, labels):\n",
    "    \n",
    "    attributes = []\n",
    "    for row in scene['delayedEffects']:\n",
    "        effect = Describe_object_attirbutes(row,1)\n",
    "        if effect is not None:\n",
    "            text = f\"{labels[row['targetObject']]} {effect}\"\n",
    "            attributes.append(text)\n",
    "        \n",
    "    return 'After a little bit, ' + JoinList(attributes)\n",
    "\n",
    "def Describe_scene (scene, counts, labels):\n",
    "    \n",
    "    describe = 'In a simulation, there is ' + Describe_objects( scene, counts )\n",
    "    positions = Describe_placement( scene, labels)\n",
    "    \n",
    "    in_total = describe + ' ' + positions\n",
    "    \n",
    "    later = Desctibe_effects(scene, labels)\n",
    "    if len(scene['delayedEffects']) == 0:\n",
    "        later = None\n",
    "    \n",
    "    return in_total, later\n"
   ]
  },
  {
   "cell_type": "code",
   "execution_count": 23,
   "id": "80fbb781-8290-4957-b420-411c7281c2c7",
   "metadata": {},
   "outputs": [
    {
     "data": {
      "text/plain": [
       "('In a simulation, there is a cube which experiences extreme gravity. It is placed above a platform.',\n",
       " None)"
      ]
     },
     "execution_count": 23,
     "metadata": {},
     "output_type": "execute_result"
    }
   ],
   "source": [
    "# What the scene could be described to look like\n",
    "\n",
    "counts,labels = Generate_counts( extracted_data )\n",
    "scene_description = Describe_scene( extracted_data, counts,labels )\n",
    "\n",
    "scene_description"
   ]
  },
  {
   "cell_type": "code",
   "execution_count": 24,
   "id": "be073c41-4f9a-43c5-a2e2-b71844987e11",
   "metadata": {},
   "outputs": [],
   "source": [
    "# Generate the possible sentences\n",
    "\n",
    "def Describe_statements_with_event ( event, statements, labels ) :\n",
    "\n",
    "    event_text = \"\"\n",
    "    result_truths = []\n",
    "    after_truths = []\n",
    "    total_truths = []\n",
    "    \n",
    "    if event[1] in ['below', 'above', 'left of', 'right of']:\n",
    "        event_text = f\"{labels[event[0]]} is {event[1]} {labels[event[2]]}\"\n",
    "    if event[1] in ['rolling', 'moving']:\n",
    "        event_text = f\"{labels[event[0]]} is {event[1]}\"\n",
    "    if event[1] in ['collide']:\n",
    "        event_text = f\"{labels[event[0]]} collided with {labels[event[2]]}\"\n",
    "        \n",
    "        \n",
    "    for k,i in enumerate(list(statements.keys())):\n",
    "        items = []\n",
    "        for j in statements[i][0]:\n",
    "            items.append(f\"it is {j} that {event_text}\")\n",
    "        for j in statements[i][1]:\n",
    "            if event[1] in ['below', 'above', 'left of', 'right of']:\n",
    "                items.append(event_text.replace(\"is\", j + \" move\"))\n",
    "            if event[1] in ['rolling', 'moving']:\n",
    "                items.append(event_text.replace(\"is\", j + \" be\"))\n",
    "            if event[1] in ['collide']:\n",
    "                items.append(event_text.replace(\"collided\", j + \" collide\"))\n",
    "        if k == 0 or k == 1:\n",
    "            result_truths.extend([ i + ', ' + item for item in items ])\n",
    "        if k == 2:\n",
    "            after_truths.extend([ i + ', ' + item for item in items ])\n",
    "        if k == 3:\n",
    "            total_truths.extend([ i + ', ' + item for item in items ])\n",
    "        \n",
    "    return result_truths, after_truths, total_truths\n"
   ]
  },
  {
   "cell_type": "code",
   "execution_count": 25,
   "id": "8497af2e-16cc-4ac9-8e51-f56dc760e5fe",
   "metadata": {},
   "outputs": [
    {
     "data": {
      "text/plain": [
       "(['After a fraction of a second, it is imposible that the cube collided with the platform',\n",
       "  'After a fraction of a second, it is unlikely that the cube collided with the platform',\n",
       "  'After a fraction of a second, the cube will not begin to collide with the platform',\n",
       "  'After a few seconds of time, it is likely that the cube collided with the platform',\n",
       "  'After a few seconds of time, it is reasonable that the cube collided with the platform',\n",
       "  'After a few seconds of time, the cube will begin to collide with the platform'],\n",
       " ['A few seconds following these changes, it is likely that the cube collided with the platform',\n",
       "  'A few seconds following these changes, it is reasonable that the cube collided with the platform'],\n",
       " ['Overall, it is likely that the cube collided with the platform',\n",
       "  'Overall, it is reasonable that the cube collided with the platform',\n",
       "  'Overall, the cube will begin to collide with the platform'])"
      ]
     },
     "execution_count": 25,
     "metadata": {},
     "output_type": "execute_result"
    }
   ],
   "source": [
    "# Statements that were then generated\n",
    "\n",
    "statements = Describe_statements_with_event(_event, Generate_statements_from_event(\n",
    "    Query_event_timelines(\n",
    "        _event,\n",
    "        extracted_data\n",
    "    )\n",
    "), labels)\n",
    "\n",
    "statements"
   ]
  },
  {
   "cell_type": "code",
   "execution_count": 26,
   "id": "bcd7d89f-9b09-43b5-8a0a-aa7d29f48347",
   "metadata": {},
   "outputs": [],
   "source": [
    "# Quick and dirty false sentences\n",
    "def Generate_false_single (s):\n",
    "    \n",
    "    if 'will not' in s:\n",
    "        return [\n",
    "            s.replace('will not', 'will')\n",
    "        ]\n",
    "    \n",
    "    if 'will' in s:\n",
    "        return [\n",
    "            s.replace('will', 'will not'),\n",
    "        ]\n",
    "    \n",
    "    if 'impossible' in s:\n",
    "        return [\n",
    "            s.replace('impossible', 'certain'),\n",
    "            s.replace('impossible', 'likely')\n",
    "        ]\n",
    "    \n",
    "    if 'certain' in s:\n",
    "        return [\n",
    "            s.replace('certain', 'impossible'),\n",
    "            s.replace('certain', 'unlikely')\n",
    "        ]\n",
    "    \n",
    "    if ' likely' in s:\n",
    "        return [\n",
    "            s.replace(' likely', 'impossible'),\n",
    "        ]\n",
    "    \n",
    "    if 'reasonable' in s:\n",
    "        return [\n",
    "            s.replace('reasonable', 'impossible'),\n",
    "        ]\n",
    "    \n",
    "    if 'unlikely' in s:\n",
    "        return [\n",
    "            s.replace('unlikely', 'certain'),\n",
    "        ]\n",
    "    \n",
    "    return []\n",
    "    \n",
    "def Generate_false_full (sentences):\n",
    "    \n",
    "    results = []\n",
    "    \n",
    "    for s in sentences:\n",
    "        results.extend(Generate_false_single(s))\n",
    "        \n",
    "    return results"
   ]
  },
  {
   "cell_type": "code",
   "execution_count": 27,
   "id": "61c3b0d2-a0f0-4ea1-8f00-faf1b07e0109",
   "metadata": {},
   "outputs": [],
   "source": [
    "# Remove bad sentences\n",
    "def Final_pass (s):\n",
    "    \n",
    "    obj_base = any( a in s for a in [\"box\", \"platform\",\"slope\", \"invPyramid\", \"staircase\", \"cliff\"] )\n",
    "    relation = any( a in s for a in [\"left\", \"right\", \"above\", \"below\" ])\n",
    "    \n",
    "    if obj_base and relation:\n",
    "        return None\n",
    "        \n",
    "    if 'the start of' in s and 'move' in s:\n",
    "        return None\n",
    "\n",
    "    return s\n",
    "\n",
    "def Adjust_names (s):\n",
    "    \n",
    "    s = s.replace('a invPyramid', 'a bowl')\n",
    "    s = s.replace('the invPyramid', 'the bowl')\n",
    "    s = s.replace('It is placed above', 'It is placed in mid-air a bit above')\n",
    "    s = s.replace('They are placed above', 'They are placed in mid-air a bit above')\n",
    "    s = s.replace('slope', 'platform sloping down to the right')\n",
    "    s = s.replace('staircase', 'staircase desending to the right')\n",
    "    s = s.replace('cliff', 'flat platform with a cliff to the right')\n",
    "    \n",
    "    if ('may' in s) or ('will' in s):\n",
    "        s=s.replace('after', 'across')\n",
    "        s=s.replace('After', 'across')\n",
    "        \n",
    "    s = s[0].upper() + s[1:]\n",
    "    \n",
    "    return s\n",
    "    \n",
    "        \n",
    "    \n",
    "def Run_final_pass (sentences):\n",
    "    \n",
    "    validated = []\n",
    "    for s in sentences:\n",
    "        _ = Final_pass(s)\n",
    "        if _ is not None:\n",
    "            validated.append(Adjust_names(_))\n",
    "            \n",
    "    return validated"
   ]
  },
  {
   "cell_type": "code",
   "execution_count": 28,
   "id": "5322b3ea-98dc-492a-99d9-d5b453bd4451",
   "metadata": {},
   "outputs": [],
   "source": [
    "def Filter_bad_scenes (scene):\n",
    "    for row in scene['attributes']:\n",
    "        if row['attribute'] == 'removed':\n",
    "            return True\n",
    "    return False"
   ]
  },
  {
   "cell_type": "code",
   "execution_count": 29,
   "id": "513bfb6e-4f37-4b7e-9017-03eed105d77d",
   "metadata": {},
   "outputs": [],
   "source": [
    "# Hopefully putting it all together\n",
    "\n",
    "def Process_Simulation ( simulation ):\n",
    "    \n",
    "    # Pull the simulation from files into memory as object\n",
    "    simulation_data = Extract_Sim_data( simulation )\n",
    "    \n",
    "    # Pull questionable scenes as they apeared\n",
    "    if Filter_bad_scenes(simulation_data):\n",
    "        return None\n",
    "    \n",
    "    # Count the objects and label them and their types\n",
    "    counts,labels = Generate_counts( simulation_data )\n",
    "    \n",
    "    # Describe the scene in plain text\n",
    "    first, seccond = Describe_scene( simulation_data, counts, labels )\n",
    "    first = Adjust_names(first)\n",
    "    \n",
    "    # List all the simulation events that occured\n",
    "    sim_events = Extract_all_events( simulation_data )\n",
    "    \n",
    "    # List of statements generated from the scene\n",
    "    initial = []\n",
    "    after_change = []\n",
    "    overall = []\n",
    "    \n",
    "    # Go through every event and extract the statements generated from them\n",
    "    for event in sim_events:\n",
    "    \n",
    "        _statements = Describe_statements_with_event(\n",
    "            event, \n",
    "            Generate_statements_from_event(\n",
    "                Query_event_timelines(\n",
    "                    event,\n",
    "                    simulation_data\n",
    "                )\n",
    "            ), labels)\n",
    "        \n",
    "        # Add them to the categlories\n",
    "        initial.extend(Run_final_pass(_statements[0]))\n",
    "        after_change.extend(Run_final_pass(_statements[1]))\n",
    "        overall.extend(Run_final_pass(_statements[2]))\n",
    "        \n",
    "    # Export as JSON!\n",
    "    output_json = {\n",
    "        \"simulation_id\" : simulation,\n",
    "        \"scene\" : first,\n",
    "        \"true_scene\" : initial,\n",
    "        \"false_scene\": Generate_false_full(initial),\n",
    "        \"effects\" : seccond,\n",
    "        \"true_effects\": after_change,\n",
    "        \"false_effects\": Generate_false_full(after_change),\n",
    "        \"true_total\": overall,\n",
    "        \"false_total\": Generate_false_full(overall)\n",
    "    }\n",
    "    \n",
    "    return output_json"
   ]
  },
  {
   "cell_type": "code",
   "execution_count": 30,
   "id": "42f8daaa-32b8-4a20-98a5-2e479bee9a0f",
   "metadata": {},
   "outputs": [
    {
     "data": {
      "application/json": {
       "effects": null,
       "false_effects": [
        "A few seconds following these changes, it is certain that the cube is rolling",
        "A few seconds following these changes, the cube will begin to be rolling",
        "A few seconds following these changes, it isimpossible that the cube collided with the platform",
        "A few seconds following these changes, it is impossible that the cube collided with the platform",
        "A few seconds following these changes, it is certain that the cube is moving",
        "A few seconds following these changes, the cube will begin to be moving"
       ],
       "false_scene": [
        "After a fraction of a second, it is certain that the cube is rolling",
        "Across a fraction of a second, the cube will begin to be rolling",
        "After a few seconds of time, it is certain that the cube is rolling",
        "After a fraction of a second, it is certain that the cube collided with the platform",
        "Across a fraction of a second, the cube will begin to collide with the platform",
        "After a few seconds of time, it isimpossible that the cube collided with the platform",
        "After a few seconds of time, it is impossible that the cube collided with the platform",
        "Across a few seconds of time, the cube will not begin to collide with the platform",
        "After a fraction of a second, it is impossible that the cube is moving",
        "After a fraction of a second, it is unlikely that the cube is moving",
        "After a fraction of a second, it isimpossible that the cube is moving",
        "After a fraction of a second, it is impossible that the cube is moving"
       ],
       "false_total": [
        "Overall, it is certain that the cube is rolling",
        "Overall, it isimpossible that the cube collided with the platform",
        "Overall, it is impossible that the cube collided with the platform",
        "Overall, the cube will not begin to collide with the platform",
        "Overall, it is certain that the cube is moving"
       ],
       "scene": "In a simulation, there is a cube which experiences extreme gravity. It is placed in mid-air a bit above a platform.",
       "simulation_id": "6587074",
       "true_effects": [
        "A few seconds following these changes, it is imposible that the cube is rolling",
        "A few seconds following these changes, it is unlikely that the cube is rolling",
        "A few seconds following these changes, the cube will not begin to be rolling",
        "A few seconds following these changes, it is likely that the cube collided with the platform",
        "A few seconds following these changes, it is reasonable that the cube collided with the platform",
        "A few seconds following these changes, it is imposible that the cube is moving",
        "A few seconds following these changes, it is unlikely that the cube is moving",
        "A few seconds following these changes, the cube will not begin to be moving"
       ],
       "true_scene": [
        "After a fraction of a second, it is imposible that the cube is rolling",
        "After a fraction of a second, it is unlikely that the cube is rolling",
        "Across a fraction of a second, the cube will not begin to be rolling",
        "After a few seconds of time, it is unlikely that the cube is rolling",
        "After a fraction of a second, it is imposible that the cube collided with the platform",
        "After a fraction of a second, it is unlikely that the cube collided with the platform",
        "Across a fraction of a second, the cube will not begin to collide with the platform",
        "After a few seconds of time, it is likely that the cube collided with the platform",
        "After a few seconds of time, it is reasonable that the cube collided with the platform",
        "Across a few seconds of time, the cube will begin to collide with the platform",
        "After a fraction of a second, it is certain that the cube is moving",
        "After a fraction of a second, it is likely that the cube is moving",
        "After a fraction of a second, it is reasonable that the cube is moving"
       ],
       "true_total": [
        "Overall, it is unlikely that the cube is rolling",
        "Overall, it is likely that the cube collided with the platform",
        "Overall, it is reasonable that the cube collided with the platform",
        "Overall, the cube will begin to collide with the platform",
        "Overall, it is unlikely that the cube is moving"
       ]
      },
      "text/plain": [
       "<IPython.core.display.JSON object>"
      ]
     },
     "execution_count": 30,
     "metadata": {
      "application/json": {
       "expanded": false,
       "root": "root"
      }
     },
     "output_type": "execute_result"
    }
   ],
   "source": [
    "DONE = Process_Simulation(\"6587074\")\n",
    "JSON(DONE)"
   ]
  },
  {
   "cell_type": "code",
   "execution_count": 31,
   "id": "dd5c1820-af16-4872-905f-f135144cdcc0",
   "metadata": {},
   "outputs": [
    {
     "name": "stdout",
     "output_type": "stream",
     "text": [
      "345 / 345\r"
     ]
    }
   ],
   "source": [
    "for i,s in enumerate(Simulation_Ids):\n",
    "    print(f\"{i} / {len(Simulation_Ids)-1}\", end='\\r')\n",
    "    with open(f'./Results/{s}.json', 'w') as outfile:\n",
    "        results = Process_Simulation(s)\n",
    "        if results is not None: \n",
    "            json.dump(results, outfile)"
   ]
  },
  {
   "cell_type": "code",
   "execution_count": null,
   "id": "40202bf0-67c3-4d13-850e-cba39a72fd29",
   "metadata": {},
   "outputs": [],
   "source": []
  }
 ],
 "metadata": {
  "kernelspec": {
   "display_name": "Python 3 (ipykernel)",
   "language": "python",
   "name": "python3"
  },
  "language_info": {
   "codemirror_mode": {
    "name": "ipython",
    "version": 3
   },
   "file_extension": ".py",
   "mimetype": "text/x-python",
   "name": "python",
   "nbconvert_exporter": "python",
   "pygments_lexer": "ipython3",
   "version": "3.7.11"
  }
 },
 "nbformat": 4,
 "nbformat_minor": 5
}
